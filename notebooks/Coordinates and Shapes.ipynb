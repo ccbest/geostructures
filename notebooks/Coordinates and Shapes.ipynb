{
 "cells": [
  {
   "cell_type": "markdown",
   "id": "953bd935-9018-4fec-8a30-ed6024a0158c",
   "metadata": {},
   "source": [
    "# Geostructures: Working with Coordinates and Shapes\n",
    "\n",
    "This notebook will demonstrate:\n",
    "* Coordinates\n",
    "* Creating shapes\n",
    "* Bounding shapes by time\n",
    "* Basic shape operations\n",
    "* Converting shapes into alternate formats"
   ]
  },
  {
   "cell_type": "code",
   "execution_count": 9,
   "id": "4ca62c82-98a9-4251-bbba-80edf95bc2d1",
   "metadata": {},
   "outputs": [],
   "source": [
    "# If you've git cloned this repo, run this cell to add `geostructures` to your python path\n",
    "import sys\n",
    "sys.path.insert(0, '../')"
   ]
  },
  {
   "cell_type": "code",
   "execution_count": 2,
   "id": "bbed135f-b064-45bc-b30c-c518e7efa540",
   "metadata": {},
   "outputs": [],
   "source": [
    "from datetime import datetime\n",
    "\n",
    "from geostructures import *\n",
    "from geostructures.visualization.plotly import draw_collection"
   ]
  },
  {
   "cell_type": "markdown",
   "id": "42809712-f786-47d8-8a12-cce2562b8838",
   "metadata": {},
   "source": [
    "## Coordinates\n",
    "\n",
    "Geostructures provides a `Coordinate` object that can be instanced with the longitude and latitude (in that order). It's important to note that geostructures expects all coordinates to be defined using the WGS84 standard."
   ]
  },
  {
   "cell_type": "code",
   "execution_count": 3,
   "id": "39670726-7525-4cac-907a-f74e342398ec",
   "metadata": {},
   "outputs": [],
   "source": [
    "# All of these are equivalent\n",
    "\n",
    "centroid = Coordinate(-0.118092, 51.509865)\n",
    "\n",
    "centroid = Coordinate('-0.118092', '51.509865')\n",
    "\n",
    "centroid = Coordinate(\n",
    "    longitude=-0.118092, \n",
    "    latitude=51.509865\n",
    ")"
   ]
  },
  {
   "cell_type": "markdown",
   "id": "df306030-3f21-4397-af51-e36f9aec3ff8",
   "metadata": {},
   "source": [
    "### Coordinate Precision\n",
    "\n",
    "A longitude of 1.0 is not necessarily equivalent to 1.000 because a higher degree of accuracy is implied. Python will automatically convert 1.000 to 1.0, so Geostructures Coordinates use the `precisenumbers` package to preserve the original level of precision (when the value is passed as a string)."
   ]
  },
  {
   "cell_type": "code",
   "execution_count": 4,
   "id": "f72c2e4c-4806-4952-8e52-b95270c5361a",
   "metadata": {},
   "outputs": [
    {
     "name": "stdout",
     "output_type": "stream",
     "text": [
      "Less precise latitude: 1\n",
      "More precise latitude: 4\n"
     ]
    }
   ],
   "source": [
    "centroid_imprecise = Coordinate(0.0, 1.0)\n",
    "centroid_precise = Coordinate('0.0000', '1.0000')\n",
    "\n",
    "print(\"Less precise latitude:\", centroid_imprecise.latitude.precision)\n",
    "print(\"More precise latitude:\", centroid_precise.latitude.precision)"
   ]
  },
  {
   "cell_type": "markdown",
   "id": "fa665e1c-3748-4922-94ac-d24118fc1577",
   "metadata": {},
   "source": [
    "### Working with alternate formats\n",
    "\n",
    "Coordinates are most often found in decimal format, but many different systems exist. Geostructures can create coordinates from and convert them back to:\n",
    "* Degrees, minutes, seconds\n",
    "* Quadrant format\n",
    "* MGRS"
   ]
  },
  {
   "cell_type": "code",
   "execution_count": 5,
   "id": "253b8616-fc90-4708-9717-d4c7c8e8a160",
   "metadata": {},
   "outputs": [
    {
     "data": {
      "text/plain": [
       "'30UXC9997810464'"
      ]
     },
     "execution_count": 5,
     "metadata": {},
     "output_type": "execute_result"
    }
   ],
   "source": [
    "centroid.to_mgrs()"
   ]
  },
  {
   "cell_type": "code",
   "execution_count": 6,
   "id": "09cb4739-9806-4da5-a1f2-c4de847cff5f",
   "metadata": {
    "scrolled": true
   },
   "outputs": [],
   "source": [
    "centroid = Coordinate.from_dms(\n",
    "    (0, 7, 5.1312), (51, 30, 35.514)  # degrees, minutes, seconds\n",
    ")\n",
    "\n",
    "centroid = Coordinate.from_qdms(\n",
    "    'N000070513',\n",
    "    'E51303551',\n",
    ")\n",
    "\n",
    "centroid = Coordinate.from_mgrs('30UXC9997810464')"
   ]
  },
  {
   "cell_type": "code",
   "execution_count": 7,
   "id": "475859a6-68d7-45c9-8ad6-eb9a255bf4aa",
   "metadata": {},
   "outputs": [
    {
     "name": "stdout",
     "output_type": "stream",
     "text": [
      "Degrees, minutes, seconds: ((0, 7, 5.18336), (51, 30, 35.50505))\n",
      "Quadrant format: ('N000070518', 'E51303551')\n",
      "MGRS: 30UXC9997810464\n"
     ]
    }
   ],
   "source": [
    "print(\"Degrees, minutes, seconds:\", centroid.to_dms())\n",
    "print(\"Quadrant format:\", centroid.to_qdms())\n",
    "print(\"MGRS:\", centroid.to_mgrs())"
   ]
  },
  {
   "cell_type": "markdown",
   "id": "0aae2024-90aa-41bf-a7b6-b38e296c8fc5",
   "metadata": {},
   "source": [
    "## Geostructures\n",
    "\n",
    "Geostructures are created using the bare minimum information needed - there's no need to calculate bounding points. We define each shape according to its mathematical definition up until we need to convert it to be used by something else (for example, a well known text string)\n",
    "\n",
    "Geostructures currently supports the following shapes:\n",
    "* GeoBox: a square, defined by its northwest and southeast coordinates. Note that because of the curvature of the earth, this shape will in reality by trapezoidal\n",
    "* GeoCircle: a perfect circle, defined by a centerpoint and radius\n",
    "* GeoEllipse: an oval, defined by a centerpoint, major axis, minor axis, and rotation\n",
    "* GeoRing: a perfect ring, defined by a centerpoint, inner radius, and outer radius. You can also create a Wedge shape by passing values to the angle_min and angle_max parameters\n",
    "* GeoLineString: a path, defined by an ordered series of coordinates**\n",
    "* GeoPoint: a single point\n",
    "\n",
    "Geostructures defines all distance measurements in meters, and all angles are relative to true north.\n",
    "\n",
    "**When working with Linestrings, keep in mind that bounding a linestring by time applies to all coordinates in the linestring. If your points each have associated times, you may want to use the `geostructures.collections.Track` object instead."
   ]
  },
  {
   "cell_type": "code",
   "execution_count": 25,
   "id": "59561161-0161-4194-9d26-e734454d5178",
   "metadata": {},
   "outputs": [
    {
     "data": {
      "application/vnd.plotly.v1+json": {
       "config": {
        "plotlyServerURL": "https://plot.ly"
       },
       "data": [
        {
         "customdata": [
          [
           51.519865,
           -0.116092,
           0,
           1,
           "-0.116092, 51.519865"
          ]
         ],
         "hovertemplate": "id=%{customdata[2]}<br>weight=%{marker.color}<br>lat/lon=%{customdata[4]}<extra></extra>",
         "lat": [
          51.519865
         ],
         "legendgroup": "",
         "lon": [
          -0.116092
         ],
         "marker": {
          "color": [
           1
          ],
          "coloraxis": "coloraxis",
          "opacity": 0.5
         },
         "mode": "markers",
         "name": "",
         "showlegend": false,
         "subplot": "mapbox",
         "type": "scattermapbox"
        },
        {
         "customdata": [
          [
           51.515865,
           -0.123092,
           0,
           1,
           "-0.123092, 51.515865"
          ],
          [
           51.514665,
           -0.118092,
           0,
           1,
           "-0.118092, 51.514665"
          ],
          [
           51.514865,
           -0.116092,
           0,
           1,
           "-0.116092, 51.514865"
          ],
          [
           51.518865,
           -0.116092,
           0,
           1,
           "-0.116092, 51.518865"
          ],
          [
           51.512865,
           -0.108092,
           0,
           1,
           "-0.108092, 51.512865"
          ]
         ],
         "hovertemplate": "id=%{customdata[2]}<br>weight=%{customdata[3]}<br>lat/lon=%{customdata[4]}<extra></extra>",
         "lat": [
          51.515865,
          51.514665,
          51.514865,
          51.518865,
          51.512865
         ],
         "legendgroup": "0",
         "line": {
          "color": "#636efa"
         },
         "lon": [
          -0.123092,
          -0.118092,
          -0.116092,
          -0.116092,
          -0.108092
         ],
         "mode": "lines",
         "name": "0",
         "showlegend": true,
         "subplot": "mapbox",
         "type": "scattermapbox"
        },
        {
         "coloraxis": "coloraxis",
         "customdata": [
          [
           0,
           1
          ],
          [
           1,
           1
          ],
          [
           2,
           1
          ],
          [
           3,
           1
          ],
          [
           4,
           1
          ],
          [
           5,
           1
          ]
         ],
         "featureidkey": "id",
         "geojson": {
          "features": [
           {
            "geometry": {
             "coordinates": [
              [
               [
                -0.154092,
                51.539865
               ],
               [
                -0.140592,
                51.539865
               ],
               [
                -0.140592,
                51.505665
               ],
               [
                -0.154092,
                51.505665
               ],
               [
                -0.154092,
                51.539865
               ]
              ]
             ],
             "type": "Polygon"
            },
            "id": 0,
            "properties": {},
            "type": "Feature"
           },
           {
            "geometry": {
             "coordinates": [
              [
               [
                -0.131092,
                51.5143616
               ],
               [
                -0.1298373,
                51.5142933
               ],
               [
                -0.1286207,
                51.5140904
               ],
               [
                -0.1274793,
                51.5137591
               ],
               [
                -0.1264476,
                51.5133095
               ],
               [
                -0.1255571,
                51.5127552
               ],
               [
                -0.1248348,
                51.5121131
               ],
               [
                -0.1243026,
                51.5114027
               ],
               [
                -0.1239768,
                51.5106456
               ],
               [
                -0.1238671,
                51.5098648
               ],
               [
                -0.123977,
                51.509084
               ],
               [
                -0.1243031,
                51.5083269
               ],
               [
                -0.1248354,
                51.5076165
               ],
               [
                -0.1255578,
                51.5069745
               ],
               [
                -0.1264483,
                51.5064203
               ],
               [
                -0.1274799,
                51.5059708
               ],
               [
                -0.1286212,
                51.5056395
               ],
               [
                -0.1298375,
                51.5054367
               ],
               [
                -0.131092,
                51.5053684
               ],
               [
                -0.1323465,
                51.5054367
               ],
               [
                -0.1335628,
                51.5056395
               ],
               [
                -0.1347041,
                51.5059708
               ],
               [
                -0.1357357,
                51.5064203
               ],
               [
                -0.1366262,
                51.5069745
               ],
               [
                -0.1373486,
                51.5076165
               ],
               [
                -0.1378809,
                51.5083269
               ],
               [
                -0.138207,
                51.509084
               ],
               [
                -0.1383169,
                51.5098648
               ],
               [
                -0.1382072,
                51.5106456
               ],
               [
                -0.1378814,
                51.5114027
               ],
               [
                -0.1373492,
                51.5121131
               ],
               [
                -0.1366269,
                51.5127552
               ],
               [
                -0.1357364,
                51.5133095
               ],
               [
                -0.1347047,
                51.5137591
               ],
               [
                -0.1335633,
                51.5140904
               ],
               [
                -0.1323467,
                51.5142933
               ],
               [
                -0.131092,
                51.5143616
               ]
              ]
             ],
             "type": "Polygon"
            },
            "id": 1,
            "properties": {},
            "type": "Feature"
           },
           {
            "geometry": {
             "coordinates": [
              [
               [
                -0.0828686,
                51.5362237
               ],
               [
                -0.0825814,
                51.5358554
               ],
               [
                -0.0825984,
                51.5353416
               ],
               [
                -0.0828556,
                51.5347504
               ],
               [
                -0.0832649,
                51.5341449
               ],
               [
                -0.0837477,
                51.5335677
               ],
               [
                -0.0842495,
                51.5330404
               ],
               [
                -0.0847382,
                51.5325699
               ],
               [
                -0.0851977,
                51.5321547
               ],
               [
                -0.0856218,
                51.5317896
               ],
               [
                -0.0860096,
                51.5314684
               ],
               [
                -0.086363,
                51.5311847
               ],
               [
                -0.086685,
                51.5309328
               ],
               [
                -0.0869789,
                51.5307079
               ],
               [
                -0.0872481,
                51.5305059
               ],
               [
                -0.0874956,
                51.5303232
               ],
               [
                -0.0877241,
                51.530157
               ],
               [
                -0.0879361,
                51.5300049
               ],
               [
                -0.0881336,
                51.5298649
               ],
               [
                -0.0883185,
                51.5297352
               ],
               [
                -0.0884923,
                51.5296146
               ],
               [
                -0.0886565,
                51.5295016
               ],
               [
                -0.0888122,
                51.5293955
               ],
               [
                -0.0889606,
                51.5292951
               ],
               [
                -0.0891025,
                51.5291999
               ],
               [
                -0.0892388,
                51.5291091
               ],
               [
                -0.0893701,
                51.5290222
               ],
               [
                -0.0894973,
                51.528938600000004
               ],
               [
                -0.0896208,
                51.528858
               ],
               [
                -0.0897412,
                51.5287798
               ],
               [
                -0.0898591,
                51.5287038
               ],
               [
                -0.0899748,
                51.5286295
               ],
               [
                -0.0900889,
                51.5285568
               ],
               [
                -0.0902017,
                51.5284852
               ],
               [
                -0.0903137,
                51.5284146
               ],
               [
                -0.0904252,
                51.5283447
               ],
               [
                -0.0905366,
                51.5282752
               ],
               [
                -0.0906483,
                51.5282059
               ],
               [
                -0.0907607,
                51.5281365
               ],
               [
                -0.0908742,
                51.5280669
               ],
               [
                -0.0909892,
                51.5279967
               ],
               [
                -0.0911062,
                51.5279257
               ],
               [
                -0.0912255,
                51.5278537
               ],
               [
                -0.0913477,
                51.5277804
               ],
               [
                -0.0914734,
                51.5277055
               ],
               [
                -0.0916031,
                51.5276286
               ],
               [
                -0.0917374,
                51.5275495
               ],
               [
                -0.0918771,
                51.5274678
               ],
               [
                -0.0920231,
                51.5273831
               ],
               [
                -0.0921761,
                51.5272948
               ],
               [
                -0.0923374,
                51.5272025
               ],
               [
                -0.0925081,
                51.5271056
               ],
               [
                -0.0926896,
                51.5270035
               ],
               [
                -0.0928836,
                51.5268954
               ],
               [
                -0.093092,
                51.5267804
               ],
               [
                -0.0933171,
                51.5266575
               ],
               [
                -0.0935616,
                51.5265256
               ],
               [
                -0.0938287,
                51.5263835
               ],
               [
                -0.0941223,
                51.5262295
               ],
               [
                -0.0944471,
                51.5260621
               ],
               [
                -0.0948086,
                51.5258792
               ],
               [
                -0.0952134,
                51.5256789
               ],
               [
                -0.0956694,
                51.5254591
               ],
               [
                -0.0961858,
                51.5252179
               ],
               [
                -0.0967726,
                51.5249541
               ],
               [
                -0.09744,
                51.5246683
               ],
               [
                -0.0981962,
                51.5243643
               ],
               [
                -0.0990437,
                51.5240522
               ],
               [
                -0.0999715,
                51.5237519
               ],
               [
                -0.1009447,
                51.5234973
               ],
               [
                -0.1018949,
                51.5233373
               ],
               [
                -0.1027205,
                51.5233267
               ],
               [
                -0.1033126,
                51.5235054
               ],
               [
                -0.1035998,
                51.5238737
               ],
               [
                -0.1035831,
                51.5243874
               ],
               [
                -0.1033262,
                51.5249787
               ],
               [
                -0.1029173,
                51.5255843
               ],
               [
                -0.1024348,
                51.5261615
               ],
               [
                -0.1019333,
                51.5266889
               ],
               [
                -0.1014448,
                51.5271595
               ],
               [
                -0.1009855,
                51.5275748
               ],
               [
                -0.1005616,
                51.5279399
               ],
               [
                -0.1001739,
                51.5282612
               ],
               [
                -0.0998206,
                51.528545
               ],
               [
                -0.0994987,
                51.5287968
               ],
               [
                -0.0992049,
                51.5290218
               ],
               [
                -0.0989357,
                51.5292238
               ],
               [
                -0.0986883,
                51.5294065
               ],
               [
                -0.0984598,
                51.5295727
               ],
               [
                -0.0982479,
                51.5297248
               ],
               [
                -0.0980504,
                51.5298649
               ],
               [
                -0.0978655,
                51.5299946
               ],
               [
                -0.0976917,
                51.5301153
               ],
               [
                -0.0975276,
                51.5302282
               ],
               [
                -0.0973718,
                51.5303344
               ],
               [
                -0.0972235,
                51.5304347
               ],
               [
                -0.0970816,
                51.53053
               ],
               [
                -0.0969454,
                51.5306208
               ],
               [
                -0.096814,
                51.5307077
               ],
               [
                -0.0966869,
                51.5307913
               ],
               [
                -0.0965634,
                51.5308719
               ],
               [
                -0.0964429,
                51.5309501
               ],
               [
                -0.0963251,
                51.5310262
               ],
               [
                -0.0962093,
                51.5311004
               ],
               [
                -0.0960953,
                51.5311732
               ],
               [
                -0.0959825,
                51.5312447
               ],
               [
                -0.0958705,
                51.5313153
               ],
               [
                -0.095759,
                51.5313853
               ],
               [
                -0.0956476,
                51.5314548
               ],
               [
                -0.0955359,
                51.5315241
               ],
               [
                -0.0954235,
                51.5315934
               ],
               [
                -0.0953099,
                51.5316631
               ],
               [
                -0.0951949,
                51.5317333
               ],
               [
                -0.095078,
                51.5318042
               ],
               [
                -0.0949587,
                51.5318763
               ],
               [
                -0.0948364,
                51.5319496
               ],
               [
                -0.0947108,
                51.5320245
               ],
               [
                -0.0945811,
                51.5321013
               ],
               [
                -0.0944467,
                51.5321804
               ],
               [
                -0.094307,
                51.5322622
               ],
               [
                -0.0941611,
                51.5323469
               ],
               [
                -0.094008,
                51.5324352
               ],
               [
                -0.0938467,
                51.5325275
               ],
               [
                -0.093676,
                51.5326244
               ],
               [
                -0.0934944,
                51.5327265
               ],
               [
                -0.0933004,
                51.5328346
               ],
               [
                -0.093092,
                51.5329496
               ],
               [
                -0.0928669,
                51.5330725
               ],
               [
                -0.0926223,
                51.5332044
               ],
               [
                -0.0923552,
                51.5333465
               ],
               [
                -0.0920615,
                51.5335005
               ],
               [
                -0.0917367,
                51.5336679
               ],
               [
                -0.0913751,
                51.5338508
               ],
               [
                -0.0909702,
                51.534051
               ],
               [
                -0.0905141,
                51.5342708
               ],
               [
                -0.0899976,
                51.534512
               ],
               [
                -0.0894106,
                51.5347758
               ],
               [
                -0.088743,
                51.5350616
               ],
               [
                -0.0879865,
                51.5353655
               ],
               [
                -0.0871387,
                51.5356775
               ],
               [
                -0.0862107,
                51.5359777
               ],
               [
                -0.0852371,
                51.5362322
               ],
               [
                -0.0842866,
                51.536392
               ],
               [
                -0.0834607,
                51.5364025
               ],
               [
                -0.0828686,
                51.5362237
               ]
              ]
             ],
             "type": "Polygon"
            },
            "id": 2,
            "properties": {},
            "type": "Feature"
           },
           {
            "geometry": {
             "coordinates": [
              [
               [
                -0.116092,
                51.5288582
               ],
               [
                -0.1135818,
                51.5287216
               ],
               [
                -0.1111479,
                51.5283158
               ],
               [
                -0.1088643,
                51.5276531
               ],
               [
                -0.1068005,
                51.5267538
               ],
               [
                -0.105019,
                51.5256452
               ],
               [
                -0.1035742,
                51.5243609
               ],
               [
                -0.1025098,
                51.5229401
               ],
               [
                -0.1018582,
                51.5214258
               ],
               [
                -0.1016391,
                51.5198641
               ],
               [
                -0.1018592,
                51.5183025
               ],
               [
                -0.1025116,
                51.5167884
               ],
               [
                -0.1035767,
                51.5153677
               ],
               [
                -0.1050218,
                51.5140838
               ],
               [
                -0.1068033,
                51.5129754
               ],
               [
                -0.1088668,
                51.5120764
               ],
               [
                -0.1111497,
                51.511414
               ],
               [
                -0.1135828,
                51.5110084
               ],
               [
                -0.116092,
                51.5108718
               ],
               [
                -0.1186012,
                51.5110084
               ],
               [
                -0.1210343,
                51.511414
               ],
               [
                -0.1233172,
                51.5120764
               ],
               [
                -0.1253807,
                51.5129754
               ],
               [
                -0.1271622,
                51.5140838
               ],
               [
                -0.1286073,
                51.5153677
               ],
               [
                -0.1296724,
                51.5167884
               ],
               [
                -0.1303248,
                51.5183025
               ],
               [
                -0.1305449,
                51.5198641
               ],
               [
                -0.1303258,
                51.5214258
               ],
               [
                -0.1296742,
                51.5229401
               ],
               [
                -0.1286098,
                51.5243609
               ],
               [
                -0.127165,
                51.5256452
               ],
               [
                -0.1253835,
                51.5267538
               ],
               [
                -0.1233197,
                51.5276531
               ],
               [
                -0.1210361,
                51.5283158
               ],
               [
                -0.1186022,
                51.5287216
               ],
               [
                -0.116092,
                51.5288582
               ],
               [
                -0.116092,
                51.5270596
               ],
               [
                -0.1181001,
                51.5269503
               ],
               [
                -0.1200471,
                51.5266256
               ],
               [
                -0.1218739,
                51.5260955
               ],
               [
                -0.123525,
                51.5253761
               ],
               [
                -0.1249501,
                51.5244892
               ],
               [
                -0.126106,
                51.5234619
               ],
               [
                -0.1269576,
                51.5223252
               ],
               [
                -0.127479,
                51.5211138
               ],
               [
                -0.1276543,
                51.5198644
               ],
               [
                -0.1274783,
                51.5186151
               ],
               [
                -0.1269564,
                51.5174038
               ],
               [
                -0.1261045,
                51.5162673
               ],
               [
                -0.1249483,
                51.5152401
               ],
               [
                -0.1235232,
                51.5143534
               ],
               [
                -0.1218724,
                51.5136342
               ],
               [
                -0.120046,
                51.5131042
               ],
               [
                -0.1180995,
                51.5127797
               ],
               [
                -0.116092,
                51.5126704
               ],
               [
                -0.1140845,
                51.5127797
               ],
               [
                -0.112138,
                51.5131042
               ],
               [
                -0.1103116,
                51.5136342
               ],
               [
                -0.1086608,
                51.5143534
               ],
               [
                -0.1072357,
                51.5152401
               ],
               [
                -0.1060795,
                51.5162673
               ],
               [
                -0.1052276,
                51.5174038
               ],
               [
                -0.1047057,
                51.5186151
               ],
               [
                -0.1045297,
                51.5198644
               ],
               [
                -0.104705,
                51.5211138
               ],
               [
                -0.1052264,
                51.5223252
               ],
               [
                -0.106078,
                51.5234619
               ],
               [
                -0.1072339,
                51.5244892
               ],
               [
                -0.108659,
                51.5253761
               ],
               [
                -0.1103101,
                51.5260955
               ],
               [
                -0.1121369,
                51.5266256
               ],
               [
                -0.1140839,
                51.5269503
               ],
               [
                -0.116092,
                51.5270596
               ],
               [
                -0.116092,
                51.5288582
               ]
              ]
             ],
             "type": "Polygon"
            },
            "id": 3,
            "properties": {},
            "type": "Feature"
           },
           {
            "geometry": {
             "coordinates": [
              [
               [
                -0.0948341,
                51.5171131
               ],
               [
                -0.0943019,
                51.5164027
               ],
               [
                -0.093976,
                51.5156456
               ],
               [
                -0.0938663,
                51.5148648
               ],
               [
                -0.0939762,
                51.514084
               ],
               [
                -0.0943023,
                51.5133269
               ],
               [
                -0.0948347,
                51.5126165
               ],
               [
                -0.0955572,
                51.5119745
               ],
               [
                -0.0964478,
                51.5114203
               ],
               [
                -0.0974795,
                51.5109708
               ],
               [
                -0.0986209,
                51.5106395
               ],
               [
                -0.0998374,
                51.5104367
               ],
               [
                -0.101092,
                51.5103684
               ],
               [
                -0.1023466,
                51.5104367
               ],
               [
                -0.1018448,
                51.512208
               ],
               [
                -0.101092,
                51.512167
               ],
               [
                -0.1003392,
                51.512208
               ],
               [
                -0.0996093,
                51.5123297
               ],
               [
                -0.0989244,
                51.5125285
               ],
               [
                -0.0983054,
                51.5127982
               ],
               [
                -0.097771,
                51.5131307
               ],
               [
                -0.0973376,
                51.513516
               ],
               [
                -0.0970181,
                51.5139422
               ],
               [
                -0.0968225,
                51.5143964
               ],
               [
                -0.0967566,
                51.5148649
               ],
               [
                -0.0968224,
                51.5153334
               ],
               [
                -0.097018,
                51.5157877
               ],
               [
                -0.0973373,
                51.5162139
               ],
               [
                -0.0948341,
                51.5171131
               ]
              ]
             ],
             "type": "Polygon"
            },
            "id": 4,
            "properties": {},
            "type": "Feature"
           },
           {
            "geometry": {
             "coordinates": [
              [
               [
                -0.116092,
                51.509865
               ],
               [
                -0.111092,
                51.509865
               ],
               [
                -0.113092,
                51.506865
               ],
               [
                -0.116092,
                51.509865
               ]
              ]
             ],
             "type": "Polygon"
            },
            "id": 5,
            "properties": {},
            "type": "Feature"
           }
          ],
          "type": "FeatureCollection"
         },
         "hovertemplate": "id=%{customdata[0]}<br>weight=%{z}<extra></extra>",
         "locations": [
          0,
          1,
          2,
          3,
          4,
          5
         ],
         "marker": {
          "opacity": 0.5
         },
         "name": "",
         "subplot": "mapbox",
         "type": "choroplethmapbox",
         "z": [
          1,
          1,
          1,
          1,
          1,
          1
         ]
        }
       ],
       "layout": {
        "autosize": true,
        "coloraxis": {
         "showscale": false
        },
        "geo": {
         "center": {
          "lat": -0.1163478375,
          "lon": 51.5174904
         },
         "fitbounds": "locations"
        },
        "mapbox": {
         "bearing": 0,
         "center": {
          "lat": 51.51839914249288,
          "lon": -0.09769047803888498
         },
         "pitch": 0,
         "style": "carto-positron",
         "zoom": 11.057378724148327
        },
        "showlegend": false,
        "template": {
         "data": {
          "bar": [
           {
            "error_x": {
             "color": "#2a3f5f"
            },
            "error_y": {
             "color": "#2a3f5f"
            },
            "marker": {
             "line": {
              "color": "#E5ECF6",
              "width": 0.5
             },
             "pattern": {
              "fillmode": "overlay",
              "size": 10,
              "solidity": 0.2
             }
            },
            "type": "bar"
           }
          ],
          "barpolar": [
           {
            "marker": {
             "line": {
              "color": "#E5ECF6",
              "width": 0.5
             },
             "pattern": {
              "fillmode": "overlay",
              "size": 10,
              "solidity": 0.2
             }
            },
            "type": "barpolar"
           }
          ],
          "carpet": [
           {
            "aaxis": {
             "endlinecolor": "#2a3f5f",
             "gridcolor": "white",
             "linecolor": "white",
             "minorgridcolor": "white",
             "startlinecolor": "#2a3f5f"
            },
            "baxis": {
             "endlinecolor": "#2a3f5f",
             "gridcolor": "white",
             "linecolor": "white",
             "minorgridcolor": "white",
             "startlinecolor": "#2a3f5f"
            },
            "type": "carpet"
           }
          ],
          "choropleth": [
           {
            "colorbar": {
             "outlinewidth": 0,
             "ticks": ""
            },
            "type": "choropleth"
           }
          ],
          "contour": [
           {
            "colorbar": {
             "outlinewidth": 0,
             "ticks": ""
            },
            "colorscale": [
             [
              0,
              "#0d0887"
             ],
             [
              0.1111111111111111,
              "#46039f"
             ],
             [
              0.2222222222222222,
              "#7201a8"
             ],
             [
              0.3333333333333333,
              "#9c179e"
             ],
             [
              0.4444444444444444,
              "#bd3786"
             ],
             [
              0.5555555555555556,
              "#d8576b"
             ],
             [
              0.6666666666666666,
              "#ed7953"
             ],
             [
              0.7777777777777778,
              "#fb9f3a"
             ],
             [
              0.8888888888888888,
              "#fdca26"
             ],
             [
              1,
              "#f0f921"
             ]
            ],
            "type": "contour"
           }
          ],
          "contourcarpet": [
           {
            "colorbar": {
             "outlinewidth": 0,
             "ticks": ""
            },
            "type": "contourcarpet"
           }
          ],
          "heatmap": [
           {
            "colorbar": {
             "outlinewidth": 0,
             "ticks": ""
            },
            "colorscale": [
             [
              0,
              "#0d0887"
             ],
             [
              0.1111111111111111,
              "#46039f"
             ],
             [
              0.2222222222222222,
              "#7201a8"
             ],
             [
              0.3333333333333333,
              "#9c179e"
             ],
             [
              0.4444444444444444,
              "#bd3786"
             ],
             [
              0.5555555555555556,
              "#d8576b"
             ],
             [
              0.6666666666666666,
              "#ed7953"
             ],
             [
              0.7777777777777778,
              "#fb9f3a"
             ],
             [
              0.8888888888888888,
              "#fdca26"
             ],
             [
              1,
              "#f0f921"
             ]
            ],
            "type": "heatmap"
           }
          ],
          "heatmapgl": [
           {
            "colorbar": {
             "outlinewidth": 0,
             "ticks": ""
            },
            "colorscale": [
             [
              0,
              "#0d0887"
             ],
             [
              0.1111111111111111,
              "#46039f"
             ],
             [
              0.2222222222222222,
              "#7201a8"
             ],
             [
              0.3333333333333333,
              "#9c179e"
             ],
             [
              0.4444444444444444,
              "#bd3786"
             ],
             [
              0.5555555555555556,
              "#d8576b"
             ],
             [
              0.6666666666666666,
              "#ed7953"
             ],
             [
              0.7777777777777778,
              "#fb9f3a"
             ],
             [
              0.8888888888888888,
              "#fdca26"
             ],
             [
              1,
              "#f0f921"
             ]
            ],
            "type": "heatmapgl"
           }
          ],
          "histogram": [
           {
            "marker": {
             "pattern": {
              "fillmode": "overlay",
              "size": 10,
              "solidity": 0.2
             }
            },
            "type": "histogram"
           }
          ],
          "histogram2d": [
           {
            "colorbar": {
             "outlinewidth": 0,
             "ticks": ""
            },
            "colorscale": [
             [
              0,
              "#0d0887"
             ],
             [
              0.1111111111111111,
              "#46039f"
             ],
             [
              0.2222222222222222,
              "#7201a8"
             ],
             [
              0.3333333333333333,
              "#9c179e"
             ],
             [
              0.4444444444444444,
              "#bd3786"
             ],
             [
              0.5555555555555556,
              "#d8576b"
             ],
             [
              0.6666666666666666,
              "#ed7953"
             ],
             [
              0.7777777777777778,
              "#fb9f3a"
             ],
             [
              0.8888888888888888,
              "#fdca26"
             ],
             [
              1,
              "#f0f921"
             ]
            ],
            "type": "histogram2d"
           }
          ],
          "histogram2dcontour": [
           {
            "colorbar": {
             "outlinewidth": 0,
             "ticks": ""
            },
            "colorscale": [
             [
              0,
              "#0d0887"
             ],
             [
              0.1111111111111111,
              "#46039f"
             ],
             [
              0.2222222222222222,
              "#7201a8"
             ],
             [
              0.3333333333333333,
              "#9c179e"
             ],
             [
              0.4444444444444444,
              "#bd3786"
             ],
             [
              0.5555555555555556,
              "#d8576b"
             ],
             [
              0.6666666666666666,
              "#ed7953"
             ],
             [
              0.7777777777777778,
              "#fb9f3a"
             ],
             [
              0.8888888888888888,
              "#fdca26"
             ],
             [
              1,
              "#f0f921"
             ]
            ],
            "type": "histogram2dcontour"
           }
          ],
          "mesh3d": [
           {
            "colorbar": {
             "outlinewidth": 0,
             "ticks": ""
            },
            "type": "mesh3d"
           }
          ],
          "parcoords": [
           {
            "line": {
             "colorbar": {
              "outlinewidth": 0,
              "ticks": ""
             }
            },
            "type": "parcoords"
           }
          ],
          "pie": [
           {
            "automargin": true,
            "type": "pie"
           }
          ],
          "scatter": [
           {
            "fillpattern": {
             "fillmode": "overlay",
             "size": 10,
             "solidity": 0.2
            },
            "type": "scatter"
           }
          ],
          "scatter3d": [
           {
            "line": {
             "colorbar": {
              "outlinewidth": 0,
              "ticks": ""
             }
            },
            "marker": {
             "colorbar": {
              "outlinewidth": 0,
              "ticks": ""
             }
            },
            "type": "scatter3d"
           }
          ],
          "scattercarpet": [
           {
            "marker": {
             "colorbar": {
              "outlinewidth": 0,
              "ticks": ""
             }
            },
            "type": "scattercarpet"
           }
          ],
          "scattergeo": [
           {
            "marker": {
             "colorbar": {
              "outlinewidth": 0,
              "ticks": ""
             }
            },
            "type": "scattergeo"
           }
          ],
          "scattergl": [
           {
            "marker": {
             "colorbar": {
              "outlinewidth": 0,
              "ticks": ""
             }
            },
            "type": "scattergl"
           }
          ],
          "scattermapbox": [
           {
            "marker": {
             "colorbar": {
              "outlinewidth": 0,
              "ticks": ""
             }
            },
            "type": "scattermapbox"
           }
          ],
          "scatterpolar": [
           {
            "marker": {
             "colorbar": {
              "outlinewidth": 0,
              "ticks": ""
             }
            },
            "type": "scatterpolar"
           }
          ],
          "scatterpolargl": [
           {
            "marker": {
             "colorbar": {
              "outlinewidth": 0,
              "ticks": ""
             }
            },
            "type": "scatterpolargl"
           }
          ],
          "scatterternary": [
           {
            "marker": {
             "colorbar": {
              "outlinewidth": 0,
              "ticks": ""
             }
            },
            "type": "scatterternary"
           }
          ],
          "surface": [
           {
            "colorbar": {
             "outlinewidth": 0,
             "ticks": ""
            },
            "colorscale": [
             [
              0,
              "#0d0887"
             ],
             [
              0.1111111111111111,
              "#46039f"
             ],
             [
              0.2222222222222222,
              "#7201a8"
             ],
             [
              0.3333333333333333,
              "#9c179e"
             ],
             [
              0.4444444444444444,
              "#bd3786"
             ],
             [
              0.5555555555555556,
              "#d8576b"
             ],
             [
              0.6666666666666666,
              "#ed7953"
             ],
             [
              0.7777777777777778,
              "#fb9f3a"
             ],
             [
              0.8888888888888888,
              "#fdca26"
             ],
             [
              1,
              "#f0f921"
             ]
            ],
            "type": "surface"
           }
          ],
          "table": [
           {
            "cells": {
             "fill": {
              "color": "#EBF0F8"
             },
             "line": {
              "color": "white"
             }
            },
            "header": {
             "fill": {
              "color": "#C8D4E3"
             },
             "line": {
              "color": "white"
             }
            },
            "type": "table"
           }
          ]
         },
         "layout": {
          "annotationdefaults": {
           "arrowcolor": "#2a3f5f",
           "arrowhead": 0,
           "arrowwidth": 1
          },
          "autotypenumbers": "strict",
          "coloraxis": {
           "colorbar": {
            "outlinewidth": 0,
            "ticks": ""
           }
          },
          "colorscale": {
           "diverging": [
            [
             0,
             "#8e0152"
            ],
            [
             0.1,
             "#c51b7d"
            ],
            [
             0.2,
             "#de77ae"
            ],
            [
             0.3,
             "#f1b6da"
            ],
            [
             0.4,
             "#fde0ef"
            ],
            [
             0.5,
             "#f7f7f7"
            ],
            [
             0.6,
             "#e6f5d0"
            ],
            [
             0.7,
             "#b8e186"
            ],
            [
             0.8,
             "#7fbc41"
            ],
            [
             0.9,
             "#4d9221"
            ],
            [
             1,
             "#276419"
            ]
           ],
           "sequential": [
            [
             0,
             "#0d0887"
            ],
            [
             0.1111111111111111,
             "#46039f"
            ],
            [
             0.2222222222222222,
             "#7201a8"
            ],
            [
             0.3333333333333333,
             "#9c179e"
            ],
            [
             0.4444444444444444,
             "#bd3786"
            ],
            [
             0.5555555555555556,
             "#d8576b"
            ],
            [
             0.6666666666666666,
             "#ed7953"
            ],
            [
             0.7777777777777778,
             "#fb9f3a"
            ],
            [
             0.8888888888888888,
             "#fdca26"
            ],
            [
             1,
             "#f0f921"
            ]
           ],
           "sequentialminus": [
            [
             0,
             "#0d0887"
            ],
            [
             0.1111111111111111,
             "#46039f"
            ],
            [
             0.2222222222222222,
             "#7201a8"
            ],
            [
             0.3333333333333333,
             "#9c179e"
            ],
            [
             0.4444444444444444,
             "#bd3786"
            ],
            [
             0.5555555555555556,
             "#d8576b"
            ],
            [
             0.6666666666666666,
             "#ed7953"
            ],
            [
             0.7777777777777778,
             "#fb9f3a"
            ],
            [
             0.8888888888888888,
             "#fdca26"
            ],
            [
             1,
             "#f0f921"
            ]
           ]
          },
          "colorway": [
           "#636efa",
           "#EF553B",
           "#00cc96",
           "#ab63fa",
           "#FFA15A",
           "#19d3f3",
           "#FF6692",
           "#B6E880",
           "#FF97FF",
           "#FECB52"
          ],
          "font": {
           "color": "#2a3f5f"
          },
          "geo": {
           "bgcolor": "white",
           "lakecolor": "white",
           "landcolor": "#E5ECF6",
           "showlakes": true,
           "showland": true,
           "subunitcolor": "white"
          },
          "hoverlabel": {
           "align": "left"
          },
          "hovermode": "closest",
          "mapbox": {
           "style": "light"
          },
          "paper_bgcolor": "white",
          "plot_bgcolor": "#E5ECF6",
          "polar": {
           "angularaxis": {
            "gridcolor": "white",
            "linecolor": "white",
            "ticks": ""
           },
           "bgcolor": "#E5ECF6",
           "radialaxis": {
            "gridcolor": "white",
            "linecolor": "white",
            "ticks": ""
           }
          },
          "scene": {
           "xaxis": {
            "backgroundcolor": "#E5ECF6",
            "gridcolor": "white",
            "gridwidth": 2,
            "linecolor": "white",
            "showbackground": true,
            "ticks": "",
            "zerolinecolor": "white"
           },
           "yaxis": {
            "backgroundcolor": "#E5ECF6",
            "gridcolor": "white",
            "gridwidth": 2,
            "linecolor": "white",
            "showbackground": true,
            "ticks": "",
            "zerolinecolor": "white"
           },
           "zaxis": {
            "backgroundcolor": "#E5ECF6",
            "gridcolor": "white",
            "gridwidth": 2,
            "linecolor": "white",
            "showbackground": true,
            "ticks": "",
            "zerolinecolor": "white"
           }
          },
          "shapedefaults": {
           "line": {
            "color": "#2a3f5f"
           }
          },
          "ternary": {
           "aaxis": {
            "gridcolor": "white",
            "linecolor": "white",
            "ticks": ""
           },
           "baxis": {
            "gridcolor": "white",
            "linecolor": "white",
            "ticks": ""
           },
           "bgcolor": "#E5ECF6",
           "caxis": {
            "gridcolor": "white",
            "linecolor": "white",
            "ticks": ""
           }
          },
          "title": {
           "x": 0.05
          },
          "xaxis": {
           "automargin": true,
           "gridcolor": "white",
           "linecolor": "white",
           "ticks": "",
           "title": {
            "standoff": 15
           },
           "zerolinecolor": "white",
           "zerolinewidth": 2
          },
          "yaxis": {
           "automargin": true,
           "gridcolor": "white",
           "linecolor": "white",
           "ticks": "",
           "title": {
            "standoff": 15
           },
           "zerolinecolor": "white",
           "zerolinewidth": 2
          }
         }
        }
       }
      },
      "image/png": "[encoded data removed]",
      "text/html": [
       "<div>                            <div id=\"fcc3996f-0e43-46fe-aea2-d8d40a36aaa5\" class=\"plotly-graph-div\" style=\"height:525px; width:100%;\"></div>            <script type=\"text/javascript\">                require([\"plotly\"], function(Plotly) {                    window.PLOTLYENV=window.PLOTLYENV || {};                                    if (document.getElementById(\"fcc3996f-0e43-46fe-aea2-d8d40a36aaa5\")) {                    Plotly.newPlot(                        \"fcc3996f-0e43-46fe-aea2-d8d40a36aaa5\",                        [{\"customdata\":[[51.519865,-0.116092,0,1.0,\"-0.116092, 51.519865\"]],\"hovertemplate\":\"id=%{customdata[2]}\\u003cbr\\u003eweight=%{marker.color}\\u003cbr\\u003elat\\u002flon=%{customdata[4]}\\u003cextra\\u003e\\u003c\\u002fextra\\u003e\",\"lat\":[51.519865],\"legendgroup\":\"\",\"lon\":[-0.116092],\"marker\":{\"color\":[1.0],\"coloraxis\":\"coloraxis\",\"opacity\":0.5},\"mode\":\"markers\",\"name\":\"\",\"showlegend\":false,\"subplot\":\"mapbox\",\"type\":\"scattermapbox\"},{\"customdata\":[[51.515865,-0.123092,0,1.0,\"-0.123092, 51.515865\"],[51.514665,-0.118092,0,1.0,\"-0.118092, 51.514665\"],[51.514865,-0.116092,0,1.0,\"-0.116092, 51.514865\"],[51.518865,-0.116092,0,1.0,\"-0.116092, 51.518865\"],[51.512865,-0.108092,0,1.0,\"-0.108092, 51.512865\"]],\"hovertemplate\":\"id=%{customdata[2]}\\u003cbr\\u003eweight=%{customdata[3]}\\u003cbr\\u003elat\\u002flon=%{customdata[4]}\\u003cextra\\u003e\\u003c\\u002fextra\\u003e\",\"lat\":[51.515865,51.514665,51.514865,51.518865,51.512865],\"legendgroup\":\"0\",\"line\":{\"color\":\"#636efa\"},\"lon\":[-0.123092,-0.118092,-0.116092,-0.116092,-0.108092],\"mode\":\"lines\",\"name\":\"0\",\"showlegend\":true,\"subplot\":\"mapbox\",\"type\":\"scattermapbox\"},{\"coloraxis\":\"coloraxis\",\"customdata\":[[0.0,1.0],[1.0,1.0],[2.0,1.0],[3.0,1.0],[4.0,1.0],[5.0,1.0]],\"featureidkey\":\"id\",\"geojson\":{\"type\":\"FeatureCollection\",\"features\":[{\"type\":\"Feature\",\"geometry\":{\"type\":\"Polygon\",\"coordinates\":[[[-0.154092,51.539865],[-0.140592,51.539865],[-0.140592,51.505665],[-0.154092,51.505665],[-0.154092,51.539865]]]},\"properties\":{},\"id\":0},{\"type\":\"Feature\",\"geometry\":{\"type\":\"Polygon\",\"coordinates\":[[[-0.131092,51.5143616],[-0.1298373,51.5142933],[-0.1286207,51.5140904],[-0.1274793,51.5137591],[-0.1264476,51.5133095],[-0.1255571,51.5127552],[-0.1248348,51.5121131],[-0.1243026,51.5114027],[-0.1239768,51.5106456],[-0.1238671,51.5098648],[-0.123977,51.509084],[-0.1243031,51.5083269],[-0.1248354,51.5076165],[-0.1255578,51.5069745],[-0.1264483,51.5064203],[-0.1274799,51.5059708],[-0.1286212,51.5056395],[-0.1298375,51.5054367],[-0.131092,51.5053684],[-0.1323465,51.5054367],[-0.1335628,51.5056395],[-0.1347041,51.5059708],[-0.1357357,51.5064203],[-0.1366262,51.5069745],[-0.1373486,51.5076165],[-0.1378809,51.5083269],[-0.138207,51.509084],[-0.1383169,51.5098648],[-0.1382072,51.5106456],[-0.1378814,51.5114027],[-0.1373492,51.5121131],[-0.1366269,51.5127552],[-0.1357364,51.5133095],[-0.1347047,51.5137591],[-0.1335633,51.5140904],[-0.1323467,51.5142933],[-0.131092,51.5143616]]]},\"properties\":{},\"id\":1},{\"type\":\"Feature\",\"geometry\":{\"type\":\"Polygon\",\"coordinates\":[[[-0.0828686,51.5362237],[-0.0825814,51.5358554],[-0.0825984,51.5353416],[-0.0828556,51.5347504],[-0.0832649,51.5341449],[-0.0837477,51.5335677],[-0.0842495,51.5330404],[-0.0847382,51.5325699],[-0.0851977,51.5321547],[-0.0856218,51.5317896],[-0.0860096,51.5314684],[-0.086363,51.5311847],[-0.086685,51.5309328],[-0.0869789,51.5307079],[-0.0872481,51.5305059],[-0.0874956,51.5303232],[-0.0877241,51.530157],[-0.0879361,51.5300049],[-0.0881336,51.5298649],[-0.0883185,51.5297352],[-0.0884923,51.5296146],[-0.0886565,51.5295016],[-0.0888122,51.5293955],[-0.0889606,51.5292951],[-0.0891025,51.5291999],[-0.0892388,51.5291091],[-0.0893701,51.5290222],[-0.0894973,51.528938600000004],[-0.0896208,51.528858],[-0.0897412,51.5287798],[-0.0898591,51.5287038],[-0.0899748,51.5286295],[-0.0900889,51.5285568],[-0.0902017,51.5284852],[-0.0903137,51.5284146],[-0.0904252,51.5283447],[-0.0905366,51.5282752],[-0.0906483,51.5282059],[-0.0907607,51.5281365],[-0.0908742,51.5280669],[-0.0909892,51.5279967],[-0.0911062,51.5279257],[-0.0912255,51.5278537],[-0.0913477,51.5277804],[-0.0914734,51.5277055],[-0.0916031,51.5276286],[-0.0917374,51.5275495],[-0.0918771,51.5274678],[-0.0920231,51.5273831],[-0.0921761,51.5272948],[-0.0923374,51.5272025],[-0.0925081,51.5271056],[-0.0926896,51.5270035],[-0.0928836,51.5268954],[-0.093092,51.5267804],[-0.0933171,51.5266575],[-0.0935616,51.5265256],[-0.0938287,51.5263835],[-0.0941223,51.5262295],[-0.0944471,51.5260621],[-0.0948086,51.5258792],[-0.0952134,51.5256789],[-0.0956694,51.5254591],[-0.0961858,51.5252179],[-0.0967726,51.5249541],[-0.09744,51.5246683],[-0.0981962,51.5243643],[-0.0990437,51.5240522],[-0.0999715,51.5237519],[-0.1009447,51.5234973],[-0.1018949,51.5233373],[-0.1027205,51.5233267],[-0.1033126,51.5235054],[-0.1035998,51.5238737],[-0.1035831,51.5243874],[-0.1033262,51.5249787],[-0.1029173,51.5255843],[-0.1024348,51.5261615],[-0.1019333,51.5266889],[-0.1014448,51.5271595],[-0.1009855,51.5275748],[-0.1005616,51.5279399],[-0.1001739,51.5282612],[-0.0998206,51.528545],[-0.0994987,51.5287968],[-0.0992049,51.5290218],[-0.0989357,51.5292238],[-0.0986883,51.5294065],[-0.0984598,51.5295727],[-0.0982479,51.5297248],[-0.0980504,51.5298649],[-0.0978655,51.5299946],[-0.0976917,51.5301153],[-0.0975276,51.5302282],[-0.0973718,51.5303344],[-0.0972235,51.5304347],[-0.0970816,51.53053],[-0.0969454,51.5306208],[-0.096814,51.5307077],[-0.0966869,51.5307913],[-0.0965634,51.5308719],[-0.0964429,51.5309501],[-0.0963251,51.5310262],[-0.0962093,51.5311004],[-0.0960953,51.5311732],[-0.0959825,51.5312447],[-0.0958705,51.5313153],[-0.095759,51.5313853],[-0.0956476,51.5314548],[-0.0955359,51.5315241],[-0.0954235,51.5315934],[-0.0953099,51.5316631],[-0.0951949,51.5317333],[-0.095078,51.5318042],[-0.0949587,51.5318763],[-0.0948364,51.5319496],[-0.0947108,51.5320245],[-0.0945811,51.5321013],[-0.0944467,51.5321804],[-0.094307,51.5322622],[-0.0941611,51.5323469],[-0.094008,51.5324352],[-0.0938467,51.5325275],[-0.093676,51.5326244],[-0.0934944,51.5327265],[-0.0933004,51.5328346],[-0.093092,51.5329496],[-0.0928669,51.5330725],[-0.0926223,51.5332044],[-0.0923552,51.5333465],[-0.0920615,51.5335005],[-0.0917367,51.5336679],[-0.0913751,51.5338508],[-0.0909702,51.534051],[-0.0905141,51.5342708],[-0.0899976,51.534512],[-0.0894106,51.5347758],[-0.088743,51.5350616],[-0.0879865,51.5353655],[-0.0871387,51.5356775],[-0.0862107,51.5359777],[-0.0852371,51.5362322],[-0.0842866,51.536392],[-0.0834607,51.5364025],[-0.0828686,51.5362237]]]},\"properties\":{},\"id\":2},{\"type\":\"Feature\",\"geometry\":{\"type\":\"Polygon\",\"coordinates\":[[[-0.116092,51.5288582],[-0.1135818,51.5287216],[-0.1111479,51.5283158],[-0.1088643,51.5276531],[-0.1068005,51.5267538],[-0.105019,51.5256452],[-0.1035742,51.5243609],[-0.1025098,51.5229401],[-0.1018582,51.5214258],[-0.1016391,51.5198641],[-0.1018592,51.5183025],[-0.1025116,51.5167884],[-0.1035767,51.5153677],[-0.1050218,51.5140838],[-0.1068033,51.5129754],[-0.1088668,51.5120764],[-0.1111497,51.511414],[-0.1135828,51.5110084],[-0.116092,51.5108718],[-0.1186012,51.5110084],[-0.1210343,51.511414],[-0.1233172,51.5120764],[-0.1253807,51.5129754],[-0.1271622,51.5140838],[-0.1286073,51.5153677],[-0.1296724,51.5167884],[-0.1303248,51.5183025],[-0.1305449,51.5198641],[-0.1303258,51.5214258],[-0.1296742,51.5229401],[-0.1286098,51.5243609],[-0.127165,51.5256452],[-0.1253835,51.5267538],[-0.1233197,51.5276531],[-0.1210361,51.5283158],[-0.1186022,51.5287216],[-0.116092,51.5288582],[-0.116092,51.5270596],[-0.1181001,51.5269503],[-0.1200471,51.5266256],[-0.1218739,51.5260955],[-0.123525,51.5253761],[-0.1249501,51.5244892],[-0.126106,51.5234619],[-0.1269576,51.5223252],[-0.127479,51.5211138],[-0.1276543,51.5198644],[-0.1274783,51.5186151],[-0.1269564,51.5174038],[-0.1261045,51.5162673],[-0.1249483,51.5152401],[-0.1235232,51.5143534],[-0.1218724,51.5136342],[-0.120046,51.5131042],[-0.1180995,51.5127797],[-0.116092,51.5126704],[-0.1140845,51.5127797],[-0.112138,51.5131042],[-0.1103116,51.5136342],[-0.1086608,51.5143534],[-0.1072357,51.5152401],[-0.1060795,51.5162673],[-0.1052276,51.5174038],[-0.1047057,51.5186151],[-0.1045297,51.5198644],[-0.104705,51.5211138],[-0.1052264,51.5223252],[-0.106078,51.5234619],[-0.1072339,51.5244892],[-0.108659,51.5253761],[-0.1103101,51.5260955],[-0.1121369,51.5266256],[-0.1140839,51.5269503],[-0.116092,51.5270596],[-0.116092,51.5288582]]]},\"properties\":{},\"id\":3},{\"type\":\"Feature\",\"geometry\":{\"type\":\"Polygon\",\"coordinates\":[[[-0.0948341,51.5171131],[-0.0943019,51.5164027],[-0.093976,51.5156456],[-0.0938663,51.5148648],[-0.0939762,51.514084],[-0.0943023,51.5133269],[-0.0948347,51.5126165],[-0.0955572,51.5119745],[-0.0964478,51.5114203],[-0.0974795,51.5109708],[-0.0986209,51.5106395],[-0.0998374,51.5104367],[-0.101092,51.5103684],[-0.1023466,51.5104367],[-0.1018448,51.512208],[-0.101092,51.512167],[-0.1003392,51.512208],[-0.0996093,51.5123297],[-0.0989244,51.5125285],[-0.0983054,51.5127982],[-0.097771,51.5131307],[-0.0973376,51.513516],[-0.0970181,51.5139422],[-0.0968225,51.5143964],[-0.0967566,51.5148649],[-0.0968224,51.5153334],[-0.097018,51.5157877],[-0.0973373,51.5162139],[-0.0948341,51.5171131]]]},\"properties\":{},\"id\":4},{\"type\":\"Feature\",\"geometry\":{\"type\":\"Polygon\",\"coordinates\":[[[-0.116092,51.509865],[-0.111092,51.509865],[-0.113092,51.506865],[-0.116092,51.509865]]]},\"properties\":{},\"id\":5}]},\"hovertemplate\":\"id=%{customdata[0]}\\u003cbr\\u003eweight=%{z}\\u003cextra\\u003e\\u003c\\u002fextra\\u003e\",\"locations\":[0,1,2,3,4,5],\"marker\":{\"opacity\":0.5},\"name\":\"\",\"subplot\":\"mapbox\",\"z\":[1.0,1.0,1.0,1.0,1.0,1.0],\"type\":\"choroplethmapbox\"}],                        {\"template\":{\"data\":{\"histogram2dcontour\":[{\"type\":\"histogram2dcontour\",\"colorbar\":{\"outlinewidth\":0,\"ticks\":\"\"},\"colorscale\":[[0.0,\"#0d0887\"],[0.1111111111111111,\"#46039f\"],[0.2222222222222222,\"#7201a8\"],[0.3333333333333333,\"#9c179e\"],[0.4444444444444444,\"#bd3786\"],[0.5555555555555556,\"#d8576b\"],[0.6666666666666666,\"#ed7953\"],[0.7777777777777778,\"#fb9f3a\"],[0.8888888888888888,\"#fdca26\"],[1.0,\"#f0f921\"]]}],\"choropleth\":[{\"type\":\"choropleth\",\"colorbar\":{\"outlinewidth\":0,\"ticks\":\"\"}}],\"histogram2d\":[{\"type\":\"histogram2d\",\"colorbar\":{\"outlinewidth\":0,\"ticks\":\"\"},\"colorscale\":[[0.0,\"#0d0887\"],[0.1111111111111111,\"#46039f\"],[0.2222222222222222,\"#7201a8\"],[0.3333333333333333,\"#9c179e\"],[0.4444444444444444,\"#bd3786\"],[0.5555555555555556,\"#d8576b\"],[0.6666666666666666,\"#ed7953\"],[0.7777777777777778,\"#fb9f3a\"],[0.8888888888888888,\"#fdca26\"],[1.0,\"#f0f921\"]]}],\"heatmap\":[{\"type\":\"heatmap\",\"colorbar\":{\"outlinewidth\":0,\"ticks\":\"\"},\"colorscale\":[[0.0,\"#0d0887\"],[0.1111111111111111,\"#46039f\"],[0.2222222222222222,\"#7201a8\"],[0.3333333333333333,\"#9c179e\"],[0.4444444444444444,\"#bd3786\"],[0.5555555555555556,\"#d8576b\"],[0.6666666666666666,\"#ed7953\"],[0.7777777777777778,\"#fb9f3a\"],[0.8888888888888888,\"#fdca26\"],[1.0,\"#f0f921\"]]}],\"heatmapgl\":[{\"type\":\"heatmapgl\",\"colorbar\":{\"outlinewidth\":0,\"ticks\":\"\"},\"colorscale\":[[0.0,\"#0d0887\"],[0.1111111111111111,\"#46039f\"],[0.2222222222222222,\"#7201a8\"],[0.3333333333333333,\"#9c179e\"],[0.4444444444444444,\"#bd3786\"],[0.5555555555555556,\"#d8576b\"],[0.6666666666666666,\"#ed7953\"],[0.7777777777777778,\"#fb9f3a\"],[0.8888888888888888,\"#fdca26\"],[1.0,\"#f0f921\"]]}],\"contourcarpet\":[{\"type\":\"contourcarpet\",\"colorbar\":{\"outlinewidth\":0,\"ticks\":\"\"}}],\"contour\":[{\"type\":\"contour\",\"colorbar\":{\"outlinewidth\":0,\"ticks\":\"\"},\"colorscale\":[[0.0,\"#0d0887\"],[0.1111111111111111,\"#46039f\"],[0.2222222222222222,\"#7201a8\"],[0.3333333333333333,\"#9c179e\"],[0.4444444444444444,\"#bd3786\"],[0.5555555555555556,\"#d8576b\"],[0.6666666666666666,\"#ed7953\"],[0.7777777777777778,\"#fb9f3a\"],[0.8888888888888888,\"#fdca26\"],[1.0,\"#f0f921\"]]}],\"surface\":[{\"type\":\"surface\",\"colorbar\":{\"outlinewidth\":0,\"ticks\":\"\"},\"colorscale\":[[0.0,\"#0d0887\"],[0.1111111111111111,\"#46039f\"],[0.2222222222222222,\"#7201a8\"],[0.3333333333333333,\"#9c179e\"],[0.4444444444444444,\"#bd3786\"],[0.5555555555555556,\"#d8576b\"],[0.6666666666666666,\"#ed7953\"],[0.7777777777777778,\"#fb9f3a\"],[0.8888888888888888,\"#fdca26\"],[1.0,\"#f0f921\"]]}],\"mesh3d\":[{\"type\":\"mesh3d\",\"colorbar\":{\"outlinewidth\":0,\"ticks\":\"\"}}],\"scatter\":[{\"fillpattern\":{\"fillmode\":\"overlay\",\"size\":10,\"solidity\":0.2},\"type\":\"scatter\"}],\"parcoords\":[{\"type\":\"parcoords\",\"line\":{\"colorbar\":{\"outlinewidth\":0,\"ticks\":\"\"}}}],\"scatterpolargl\":[{\"type\":\"scatterpolargl\",\"marker\":{\"colorbar\":{\"outlinewidth\":0,\"ticks\":\"\"}}}],\"bar\":[{\"error_x\":{\"color\":\"#2a3f5f\"},\"error_y\":{\"color\":\"#2a3f5f\"},\"marker\":{\"line\":{\"color\":\"#E5ECF6\",\"width\":0.5},\"pattern\":{\"fillmode\":\"overlay\",\"size\":10,\"solidity\":0.2}},\"type\":\"bar\"}],\"scattergeo\":[{\"type\":\"scattergeo\",\"marker\":{\"colorbar\":{\"outlinewidth\":0,\"ticks\":\"\"}}}],\"scatterpolar\":[{\"type\":\"scatterpolar\",\"marker\":{\"colorbar\":{\"outlinewidth\":0,\"ticks\":\"\"}}}],\"histogram\":[{\"marker\":{\"pattern\":{\"fillmode\":\"overlay\",\"size\":10,\"solidity\":0.2}},\"type\":\"histogram\"}],\"scattergl\":[{\"type\":\"scattergl\",\"marker\":{\"colorbar\":{\"outlinewidth\":0,\"ticks\":\"\"}}}],\"scatter3d\":[{\"type\":\"scatter3d\",\"line\":{\"colorbar\":{\"outlinewidth\":0,\"ticks\":\"\"}},\"marker\":{\"colorbar\":{\"outlinewidth\":0,\"ticks\":\"\"}}}],\"scattermapbox\":[{\"type\":\"scattermapbox\",\"marker\":{\"colorbar\":{\"outlinewidth\":0,\"ticks\":\"\"}}}],\"scatterternary\":[{\"type\":\"scatterternary\",\"marker\":{\"colorbar\":{\"outlinewidth\":0,\"ticks\":\"\"}}}],\"scattercarpet\":[{\"type\":\"scattercarpet\",\"marker\":{\"colorbar\":{\"outlinewidth\":0,\"ticks\":\"\"}}}],\"carpet\":[{\"aaxis\":{\"endlinecolor\":\"#2a3f5f\",\"gridcolor\":\"white\",\"linecolor\":\"white\",\"minorgridcolor\":\"white\",\"startlinecolor\":\"#2a3f5f\"},\"baxis\":{\"endlinecolor\":\"#2a3f5f\",\"gridcolor\":\"white\",\"linecolor\":\"white\",\"minorgridcolor\":\"white\",\"startlinecolor\":\"#2a3f5f\"},\"type\":\"carpet\"}],\"table\":[{\"cells\":{\"fill\":{\"color\":\"#EBF0F8\"},\"line\":{\"color\":\"white\"}},\"header\":{\"fill\":{\"color\":\"#C8D4E3\"},\"line\":{\"color\":\"white\"}},\"type\":\"table\"}],\"barpolar\":[{\"marker\":{\"line\":{\"color\":\"#E5ECF6\",\"width\":0.5},\"pattern\":{\"fillmode\":\"overlay\",\"size\":10,\"solidity\":0.2}},\"type\":\"barpolar\"}],\"pie\":[{\"automargin\":true,\"type\":\"pie\"}]},\"layout\":{\"autotypenumbers\":\"strict\",\"colorway\":[\"#636efa\",\"#EF553B\",\"#00cc96\",\"#ab63fa\",\"#FFA15A\",\"#19d3f3\",\"#FF6692\",\"#B6E880\",\"#FF97FF\",\"#FECB52\"],\"font\":{\"color\":\"#2a3f5f\"},\"hovermode\":\"closest\",\"hoverlabel\":{\"align\":\"left\"},\"paper_bgcolor\":\"white\",\"plot_bgcolor\":\"#E5ECF6\",\"polar\":{\"bgcolor\":\"#E5ECF6\",\"angularaxis\":{\"gridcolor\":\"white\",\"linecolor\":\"white\",\"ticks\":\"\"},\"radialaxis\":{\"gridcolor\":\"white\",\"linecolor\":\"white\",\"ticks\":\"\"}},\"ternary\":{\"bgcolor\":\"#E5ECF6\",\"aaxis\":{\"gridcolor\":\"white\",\"linecolor\":\"white\",\"ticks\":\"\"},\"baxis\":{\"gridcolor\":\"white\",\"linecolor\":\"white\",\"ticks\":\"\"},\"caxis\":{\"gridcolor\":\"white\",\"linecolor\":\"white\",\"ticks\":\"\"}},\"coloraxis\":{\"colorbar\":{\"outlinewidth\":0,\"ticks\":\"\"}},\"colorscale\":{\"sequential\":[[0.0,\"#0d0887\"],[0.1111111111111111,\"#46039f\"],[0.2222222222222222,\"#7201a8\"],[0.3333333333333333,\"#9c179e\"],[0.4444444444444444,\"#bd3786\"],[0.5555555555555556,\"#d8576b\"],[0.6666666666666666,\"#ed7953\"],[0.7777777777777778,\"#fb9f3a\"],[0.8888888888888888,\"#fdca26\"],[1.0,\"#f0f921\"]],\"sequentialminus\":[[0.0,\"#0d0887\"],[0.1111111111111111,\"#46039f\"],[0.2222222222222222,\"#7201a8\"],[0.3333333333333333,\"#9c179e\"],[0.4444444444444444,\"#bd3786\"],[0.5555555555555556,\"#d8576b\"],[0.6666666666666666,\"#ed7953\"],[0.7777777777777778,\"#fb9f3a\"],[0.8888888888888888,\"#fdca26\"],[1.0,\"#f0f921\"]],\"diverging\":[[0,\"#8e0152\"],[0.1,\"#c51b7d\"],[0.2,\"#de77ae\"],[0.3,\"#f1b6da\"],[0.4,\"#fde0ef\"],[0.5,\"#f7f7f7\"],[0.6,\"#e6f5d0\"],[0.7,\"#b8e186\"],[0.8,\"#7fbc41\"],[0.9,\"#4d9221\"],[1,\"#276419\"]]},\"xaxis\":{\"gridcolor\":\"white\",\"linecolor\":\"white\",\"ticks\":\"\",\"title\":{\"standoff\":15},\"zerolinecolor\":\"white\",\"automargin\":true,\"zerolinewidth\":2},\"yaxis\":{\"gridcolor\":\"white\",\"linecolor\":\"white\",\"ticks\":\"\",\"title\":{\"standoff\":15},\"zerolinecolor\":\"white\",\"automargin\":true,\"zerolinewidth\":2},\"scene\":{\"xaxis\":{\"backgroundcolor\":\"#E5ECF6\",\"gridcolor\":\"white\",\"linecolor\":\"white\",\"showbackground\":true,\"ticks\":\"\",\"zerolinecolor\":\"white\",\"gridwidth\":2},\"yaxis\":{\"backgroundcolor\":\"#E5ECF6\",\"gridcolor\":\"white\",\"linecolor\":\"white\",\"showbackground\":true,\"ticks\":\"\",\"zerolinecolor\":\"white\",\"gridwidth\":2},\"zaxis\":{\"backgroundcolor\":\"#E5ECF6\",\"gridcolor\":\"white\",\"linecolor\":\"white\",\"showbackground\":true,\"ticks\":\"\",\"zerolinecolor\":\"white\",\"gridwidth\":2}},\"shapedefaults\":{\"line\":{\"color\":\"#2a3f5f\"}},\"annotationdefaults\":{\"arrowcolor\":\"#2a3f5f\",\"arrowhead\":0,\"arrowwidth\":1},\"geo\":{\"bgcolor\":\"white\",\"landcolor\":\"#E5ECF6\",\"subunitcolor\":\"white\",\"showland\":true,\"showlakes\":true,\"lakecolor\":\"white\"},\"title\":{\"x\":0.05},\"mapbox\":{\"style\":\"light\"}}},\"geo\":{\"center\":{\"lat\":-0.1163478375,\"lon\":51.5174904},\"fitbounds\":\"locations\"},\"coloraxis\":{\"showscale\":false},\"mapbox\":{\"style\":\"carto-positron\"},\"showlegend\":false},                        {\"responsive\": true}                    ).then(function(){\n",
       "                            \n",
       "var gd = document.getElementById('fcc3996f-0e43-46fe-aea2-d8d40a36aaa5');\n",
       "var x = new MutationObserver(function (mutations, observer) {{\n",
       "        var display = window.getComputedStyle(gd).display;\n",
       "        if (!display || display === 'none') {{\n",
       "            console.log([gd, 'removed!']);\n",
       "            Plotly.purge(gd);\n",
       "            observer.disconnect();\n",
       "        }}\n",
       "}});\n",
       "\n",
       "// Listen for the removal of the full notebook cells\n",
       "var notebookContainer = gd.closest('#notebook-container');\n",
       "if (notebookContainer) {{\n",
       "    x.observe(notebookContainer, {childList: true});\n",
       "}}\n",
       "\n",
       "// Listen for the clearing of the current output cell\n",
       "var outputEl = gd.closest('.output');\n",
       "if (outputEl) {{\n",
       "    x.observe(outputEl, {childList: true});\n",
       "}}\n",
       "\n",
       "                        })                };                });            </script>        </div>"
      ]
     },
     "metadata": {},
     "output_type": "display_data"
    }
   ],
   "source": [
    "from geostructures import *\n",
    "from geostructures.collections import FeatureCollection\n",
    "from geostructures.time import TimeInterval\n",
    "\n",
    "Coordinate(-0.118092, 51.509865)\n",
    "\n",
    "box = GeoBox(\n",
    "    Coordinate(-0.154092, 51.539865),  # Northwest corner\n",
    "    Coordinate(-0.140592, 51.505665)    # Southeast corner\n",
    ")\n",
    "\n",
    "circle = GeoCircle(Coordinate(-0.131092, 51.509865), radius=500)\n",
    "\n",
    "ellipse = GeoEllipse(\n",
    "    Coordinate(-0.093092, 51.529865), \n",
    "    major_axis=1_000, # The distance between the centerpoint and the furthest point along the circumference\n",
    "    minor_axis=250,   # The distance between the centerpoint and the closest point along the circumference\n",
    "    rotation=45       # The angle of rotation (between 0 and 360)\n",
    ")\n",
    "\n",
    "ring = GeoRing(\n",
    "    Coordinate(-0.116092, 51.519865),\n",
    "    inner_radius=800,\n",
    "    outer_radius=1000,\n",
    ")\n",
    "\n",
    "wedge = GeoRing(\n",
    "    Coordinate(-0.101092, 51.514865),\n",
    "    inner_radius=300,\n",
    "    outer_radius=500,\n",
    "    angle_min=60,    # The minimum angle of the wedge\n",
    "    angle_max=190,   # The maximum angle of the wedge\n",
    ")\n",
    "\n",
    "linestring = GeoLineString(\n",
    "    [\n",
    "        Coordinate(-0.123092, 51.515865), Coordinate(-0.118092, 51.514665), Coordinate(-0.116092, 51.514865),\n",
    "        Coordinate(-0.116092, 51.518865), Coordinate(-0.108092, 51.512865)\n",
    "    ]\n",
    ")\n",
    "\n",
    "point = GeoPoint(Coordinate(-0.116092, 51.519865))\n",
    "\n",
    "polygon = GeoPolygon(\n",
    "    [\n",
    "        Coordinate(-0.116092, 51.509865), Coordinate(-0.111092, 51.509865), \n",
    "        Coordinate(-0.113092, 51.506865), Coordinate(-0.116092, 51.509865)  # Note that the last coordinate is the same as the first\n",
    "    ]\n",
    ")\n",
    "\n",
    "# polygon_with_holes = \n",
    "\n",
    "collection = FeatureCollection([box, circle, ellipse, ring, wedge, linestring, point, polygon])\n",
    "draw_collection(collection)"
   ]
  },
  {
   "cell_type": "markdown",
   "id": "1721d6b1-954e-455d-94e0-b6e7ea54742f",
   "metadata": {},
   "source": [
    "### Bounding Shapes by Time\n",
    "\n",
    "Geostructures allows you to define shapes by a point or interval in time using the `dt` parameter. Bounding a shape this way will affect how some operations occur."
   ]
  },
  {
   "cell_type": "code",
   "execution_count": 26,
   "id": "0b77f67b-a67b-4891-8af6-67d7bd963dc4",
   "metadata": {},
   "outputs": [
    {
     "name": "stderr",
     "output_type": "stream",
     "text": [
      "Datetime does not contain timezone information; Zulu/UTC time assumed. (this warning will not repeat)\n"
     ]
    }
   ],
   "source": [
    "# This circle is 'timeless', which is functionally equivalent to eternal\n",
    "circle = GeoCircle(\n",
    "    Coordinate(-0.118092, 51.509865), \n",
    "    radius=5000\n",
    ")\n",
    "\n",
    "# This circle only exists at midnight, January 1st 2020\n",
    "circle = GeoCircle(\n",
    "    Coordinate(-0.118092, 51.509865), \n",
    "    radius=5000, \n",
    "    dt=datetime(2020, 1, 1)\n",
    ")\n",
    "\n",
    "# This circle exists between midnight, January 1st 2020 and noon, January 3rd 2020\n",
    "circle2 = GeoCircle(\n",
    "    Coordinate(-0.118092, 51.509865), \n",
    "    radius=5000, \n",
    "    dt=TimeInterval(datetime(2020, 1, 1), datetime(2020, 1, 3, 12))\n",
    ")"
   ]
  },
  {
   "cell_type": "code",
   "execution_count": 27,
   "id": "7640dd27-ca56-403c-81f6-f8abc20934be",
   "metadata": {},
   "outputs": [
    {
     "name": "stdout",
     "output_type": "stream",
     "text": [
      "January 2 point inside circle? True\n",
      "January 5 point inside circle? False\n"
     ]
    }
   ],
   "source": [
    "print(\"January 2 point inside circle?\", GeoPoint(Coordinate(-0.118092, 51.509865), dt=datetime(2020, 1, 2)) in circle2)\n",
    "print(\"January 5 point inside circle?\", GeoPoint(Coordinate(-0.118092, 51.509865), dt=datetime(2020, 1, 5)) in circle2)"
   ]
  },
  {
   "cell_type": "markdown",
   "id": "9af7e41f-be8c-41a5-829f-72d9e5e58b12",
   "metadata": {},
   "source": [
    "### Shape Operations\n",
    "\n",
    "Each geostructure comes with several geometric operations you can apply:\n",
    "* Calculate the centroid\n",
    "* Draw a circumscribing circle or rectangle around the shape\n",
    "* Create a list of coordinates that define the outermost border and any holes present\n",
    "* Test whether a point falls within the shape"
   ]
  },
  {
   "cell_type": "code",
   "execution_count": 28,
   "id": "79bced41-eec2-40e7-a4b0-daa2e8aeaf53",
   "metadata": {},
   "outputs": [
    {
     "name": "stdout",
     "output_type": "stream",
     "text": [
      "Coordinate is in polygon? False\n"
     ]
    },
    {
     "data": {
      "application/vnd.plotly.v1+json": {
       "config": {
        "plotlyServerURL": "https://plot.ly"
       },
       "data": [
        {
         "coloraxis": "coloraxis",
         "customdata": [
          [
           0,
           1
          ],
          [
           1,
           1
          ],
          [
           2,
           1
          ]
         ],
         "featureidkey": "id",
         "geojson": {
          "features": [
           {
            "geometry": {
             "coordinates": [
              [
               [
                -0.116092,
                51.509865
               ],
               [
                -0.111092,
                51.509865
               ],
               [
                -0.113092,
                51.506865
               ],
               [
                -0.116092,
                51.509865
               ]
              ]
             ],
             "type": "Polygon"
            },
            "id": 0,
            "properties": {},
            "type": "Feature"
           },
           {
            "geometry": {
             "coordinates": [
              [
               [
                -0.1134253,
                51.5108757
               ],
               [
                -0.1128643,
                51.5108452
               ],
               [
                -0.1123203,
                51.5107545
               ],
               [
                -0.1118099,
                51.5106063
               ],
               [
                -0.1113486,
                51.5104053
               ],
               [
                -0.1109504,
                51.5101574
               ],
               [
                -0.1106274,
                51.5098703
               ],
               [
                -0.1103894,
                51.5095527
               ],
               [
                -0.1102437,
                51.5092141
               ],
               [
                -0.1101947,
                51.508865
               ],
               [
                -0.1102438,
                51.5085158
               ],
               [
                -0.1103895,
                51.5081773
               ],
               [
                -0.1106275,
                51.5078596
               ],
               [
                -0.1109506,
                51.5075725
               ],
               [
                -0.1113488,
                51.5073247
               ],
               [
                -0.11181,
                51.5071236
               ],
               [
                -0.1123204,
                51.5069755
               ],
               [
                -0.1128643,
                51.5068848
               ],
               [
                -0.1134253,
                51.5068543
               ],
               [
                -0.1139863,
                51.5068848
               ],
               [
                -0.1145302,
                51.5069755
               ],
               [
                -0.1150406,
                51.5071236
               ],
               [
                -0.1155018,
                51.5073247
               ],
               [
                -0.1159,
                51.5075725
               ],
               [
                -0.1162231,
                51.5078596
               ],
               [
                -0.1164611,
                51.5081773
               ],
               [
                -0.1166068,
                51.5085158
               ],
               [
                -0.1166559,
                51.508865
               ],
               [
                -0.1166069,
                51.5092141
               ],
               [
                -0.1164612,
                51.5095527
               ],
               [
                -0.1162232,
                51.5098703
               ],
               [
                -0.1159002,
                51.5101574
               ],
               [
                -0.115502,
                51.5104053
               ],
               [
                -0.1150407,
                51.5106063
               ],
               [
                -0.1145303,
                51.5107545
               ],
               [
                -0.1139863,
                51.5108452
               ],
               [
                -0.1134253,
                51.5108757
               ]
              ]
             ],
             "type": "Polygon"
            },
            "id": 1,
            "properties": {},
            "type": "Feature"
           },
           {
            "geometry": {
             "coordinates": [
              [
               [
                -0.116092,
                51.509865
               ],
               [
                -0.111092,
                51.509865
               ],
               [
                -0.111092,
                51.506865
               ],
               [
                -0.116092,
                51.506865
               ],
               [
                -0.116092,
                51.509865
               ]
              ]
             ],
             "type": "Polygon"
            },
            "id": 2,
            "properties": {},
            "type": "Feature"
           }
          ],
          "type": "FeatureCollection"
         },
         "hovertemplate": "id=%{customdata[0]}<br>weight=%{z}<extra></extra>",
         "locations": [
          0,
          1,
          2
         ],
         "marker": {
          "opacity": 0.5
         },
         "name": "",
         "subplot": "mapbox",
         "type": "choroplethmapbox",
         "z": [
          1,
          1,
          1
         ]
        }
       ],
       "layout": {
        "autosize": true,
        "coloraxis": {
         "showscale": false
        },
        "geo": {
         "center": {
          "lat": -0.11348086666666668,
          "lon": 51.508698333333335
         },
         "fitbounds": "locations"
        },
        "mapbox": {
         "bearing": 0,
         "center": {
          "lat": 51.50860155651108,
          "lon": -0.10937411914676431
         },
         "pitch": 0,
         "style": "carto-positron",
         "zoom": 13.745789572529604
        },
        "showlegend": false,
        "template": {
         "data": {
          "bar": [
           {
            "error_x": {
             "color": "#2a3f5f"
            },
            "error_y": {
             "color": "#2a3f5f"
            },
            "marker": {
             "line": {
              "color": "#E5ECF6",
              "width": 0.5
             },
             "pattern": {
              "fillmode": "overlay",
              "size": 10,
              "solidity": 0.2
             }
            },
            "type": "bar"
           }
          ],
          "barpolar": [
           {
            "marker": {
             "line": {
              "color": "#E5ECF6",
              "width": 0.5
             },
             "pattern": {
              "fillmode": "overlay",
              "size": 10,
              "solidity": 0.2
             }
            },
            "type": "barpolar"
           }
          ],
          "carpet": [
           {
            "aaxis": {
             "endlinecolor": "#2a3f5f",
             "gridcolor": "white",
             "linecolor": "white",
             "minorgridcolor": "white",
             "startlinecolor": "#2a3f5f"
            },
            "baxis": {
             "endlinecolor": "#2a3f5f",
             "gridcolor": "white",
             "linecolor": "white",
             "minorgridcolor": "white",
             "startlinecolor": "#2a3f5f"
            },
            "type": "carpet"
           }
          ],
          "choropleth": [
           {
            "colorbar": {
             "outlinewidth": 0,
             "ticks": ""
            },
            "type": "choropleth"
           }
          ],
          "contour": [
           {
            "colorbar": {
             "outlinewidth": 0,
             "ticks": ""
            },
            "colorscale": [
             [
              0,
              "#0d0887"
             ],
             [
              0.1111111111111111,
              "#46039f"
             ],
             [
              0.2222222222222222,
              "#7201a8"
             ],
             [
              0.3333333333333333,
              "#9c179e"
             ],
             [
              0.4444444444444444,
              "#bd3786"
             ],
             [
              0.5555555555555556,
              "#d8576b"
             ],
             [
              0.6666666666666666,
              "#ed7953"
             ],
             [
              0.7777777777777778,
              "#fb9f3a"
             ],
             [
              0.8888888888888888,
              "#fdca26"
             ],
             [
              1,
              "#f0f921"
             ]
            ],
            "type": "contour"
           }
          ],
          "contourcarpet": [
           {
            "colorbar": {
             "outlinewidth": 0,
             "ticks": ""
            },
            "type": "contourcarpet"
           }
          ],
          "heatmap": [
           {
            "colorbar": {
             "outlinewidth": 0,
             "ticks": ""
            },
            "colorscale": [
             [
              0,
              "#0d0887"
             ],
             [
              0.1111111111111111,
              "#46039f"
             ],
             [
              0.2222222222222222,
              "#7201a8"
             ],
             [
              0.3333333333333333,
              "#9c179e"
             ],
             [
              0.4444444444444444,
              "#bd3786"
             ],
             [
              0.5555555555555556,
              "#d8576b"
             ],
             [
              0.6666666666666666,
              "#ed7953"
             ],
             [
              0.7777777777777778,
              "#fb9f3a"
             ],
             [
              0.8888888888888888,
              "#fdca26"
             ],
             [
              1,
              "#f0f921"
             ]
            ],
            "type": "heatmap"
           }
          ],
          "heatmapgl": [
           {
            "colorbar": {
             "outlinewidth": 0,
             "ticks": ""
            },
            "colorscale": [
             [
              0,
              "#0d0887"
             ],
             [
              0.1111111111111111,
              "#46039f"
             ],
             [
              0.2222222222222222,
              "#7201a8"
             ],
             [
              0.3333333333333333,
              "#9c179e"
             ],
             [
              0.4444444444444444,
              "#bd3786"
             ],
             [
              0.5555555555555556,
              "#d8576b"
             ],
             [
              0.6666666666666666,
              "#ed7953"
             ],
             [
              0.7777777777777778,
              "#fb9f3a"
             ],
             [
              0.8888888888888888,
              "#fdca26"
             ],
             [
              1,
              "#f0f921"
             ]
            ],
            "type": "heatmapgl"
           }
          ],
          "histogram": [
           {
            "marker": {
             "pattern": {
              "fillmode": "overlay",
              "size": 10,
              "solidity": 0.2
             }
            },
            "type": "histogram"
           }
          ],
          "histogram2d": [
           {
            "colorbar": {
             "outlinewidth": 0,
             "ticks": ""
            },
            "colorscale": [
             [
              0,
              "#0d0887"
             ],
             [
              0.1111111111111111,
              "#46039f"
             ],
             [
              0.2222222222222222,
              "#7201a8"
             ],
             [
              0.3333333333333333,
              "#9c179e"
             ],
             [
              0.4444444444444444,
              "#bd3786"
             ],
             [
              0.5555555555555556,
              "#d8576b"
             ],
             [
              0.6666666666666666,
              "#ed7953"
             ],
             [
              0.7777777777777778,
              "#fb9f3a"
             ],
             [
              0.8888888888888888,
              "#fdca26"
             ],
             [
              1,
              "#f0f921"
             ]
            ],
            "type": "histogram2d"
           }
          ],
          "histogram2dcontour": [
           {
            "colorbar": {
             "outlinewidth": 0,
             "ticks": ""
            },
            "colorscale": [
             [
              0,
              "#0d0887"
             ],
             [
              0.1111111111111111,
              "#46039f"
             ],
             [
              0.2222222222222222,
              "#7201a8"
             ],
             [
              0.3333333333333333,
              "#9c179e"
             ],
             [
              0.4444444444444444,
              "#bd3786"
             ],
             [
              0.5555555555555556,
              "#d8576b"
             ],
             [
              0.6666666666666666,
              "#ed7953"
             ],
             [
              0.7777777777777778,
              "#fb9f3a"
             ],
             [
              0.8888888888888888,
              "#fdca26"
             ],
             [
              1,
              "#f0f921"
             ]
            ],
            "type": "histogram2dcontour"
           }
          ],
          "mesh3d": [
           {
            "colorbar": {
             "outlinewidth": 0,
             "ticks": ""
            },
            "type": "mesh3d"
           }
          ],
          "parcoords": [
           {
            "line": {
             "colorbar": {
              "outlinewidth": 0,
              "ticks": ""
             }
            },
            "type": "parcoords"
           }
          ],
          "pie": [
           {
            "automargin": true,
            "type": "pie"
           }
          ],
          "scatter": [
           {
            "fillpattern": {
             "fillmode": "overlay",
             "size": 10,
             "solidity": 0.2
            },
            "type": "scatter"
           }
          ],
          "scatter3d": [
           {
            "line": {
             "colorbar": {
              "outlinewidth": 0,
              "ticks": ""
             }
            },
            "marker": {
             "colorbar": {
              "outlinewidth": 0,
              "ticks": ""
             }
            },
            "type": "scatter3d"
           }
          ],
          "scattercarpet": [
           {
            "marker": {
             "colorbar": {
              "outlinewidth": 0,
              "ticks": ""
             }
            },
            "type": "scattercarpet"
           }
          ],
          "scattergeo": [
           {
            "marker": {
             "colorbar": {
              "outlinewidth": 0,
              "ticks": ""
             }
            },
            "type": "scattergeo"
           }
          ],
          "scattergl": [
           {
            "marker": {
             "colorbar": {
              "outlinewidth": 0,
              "ticks": ""
             }
            },
            "type": "scattergl"
           }
          ],
          "scattermapbox": [
           {
            "marker": {
             "colorbar": {
              "outlinewidth": 0,
              "ticks": ""
             }
            },
            "type": "scattermapbox"
           }
          ],
          "scatterpolar": [
           {
            "marker": {
             "colorbar": {
              "outlinewidth": 0,
              "ticks": ""
             }
            },
            "type": "scatterpolar"
           }
          ],
          "scatterpolargl": [
           {
            "marker": {
             "colorbar": {
              "outlinewidth": 0,
              "ticks": ""
             }
            },
            "type": "scatterpolargl"
           }
          ],
          "scatterternary": [
           {
            "marker": {
             "colorbar": {
              "outlinewidth": 0,
              "ticks": ""
             }
            },
            "type": "scatterternary"
           }
          ],
          "surface": [
           {
            "colorbar": {
             "outlinewidth": 0,
             "ticks": ""
            },
            "colorscale": [
             [
              0,
              "#0d0887"
             ],
             [
              0.1111111111111111,
              "#46039f"
             ],
             [
              0.2222222222222222,
              "#7201a8"
             ],
             [
              0.3333333333333333,
              "#9c179e"
             ],
             [
              0.4444444444444444,
              "#bd3786"
             ],
             [
              0.5555555555555556,
              "#d8576b"
             ],
             [
              0.6666666666666666,
              "#ed7953"
             ],
             [
              0.7777777777777778,
              "#fb9f3a"
             ],
             [
              0.8888888888888888,
              "#fdca26"
             ],
             [
              1,
              "#f0f921"
             ]
            ],
            "type": "surface"
           }
          ],
          "table": [
           {
            "cells": {
             "fill": {
              "color": "#EBF0F8"
             },
             "line": {
              "color": "white"
             }
            },
            "header": {
             "fill": {
              "color": "#C8D4E3"
             },
             "line": {
              "color": "white"
             }
            },
            "type": "table"
           }
          ]
         },
         "layout": {
          "annotationdefaults": {
           "arrowcolor": "#2a3f5f",
           "arrowhead": 0,
           "arrowwidth": 1
          },
          "autotypenumbers": "strict",
          "coloraxis": {
           "colorbar": {
            "outlinewidth": 0,
            "ticks": ""
           }
          },
          "colorscale": {
           "diverging": [
            [
             0,
             "#8e0152"
            ],
            [
             0.1,
             "#c51b7d"
            ],
            [
             0.2,
             "#de77ae"
            ],
            [
             0.3,
             "#f1b6da"
            ],
            [
             0.4,
             "#fde0ef"
            ],
            [
             0.5,
             "#f7f7f7"
            ],
            [
             0.6,
             "#e6f5d0"
            ],
            [
             0.7,
             "#b8e186"
            ],
            [
             0.8,
             "#7fbc41"
            ],
            [
             0.9,
             "#4d9221"
            ],
            [
             1,
             "#276419"
            ]
           ],
           "sequential": [
            [
             0,
             "#0d0887"
            ],
            [
             0.1111111111111111,
             "#46039f"
            ],
            [
             0.2222222222222222,
             "#7201a8"
            ],
            [
             0.3333333333333333,
             "#9c179e"
            ],
            [
             0.4444444444444444,
             "#bd3786"
            ],
            [
             0.5555555555555556,
             "#d8576b"
            ],
            [
             0.6666666666666666,
             "#ed7953"
            ],
            [
             0.7777777777777778,
             "#fb9f3a"
            ],
            [
             0.8888888888888888,
             "#fdca26"
            ],
            [
             1,
             "#f0f921"
            ]
           ],
           "sequentialminus": [
            [
             0,
             "#0d0887"
            ],
            [
             0.1111111111111111,
             "#46039f"
            ],
            [
             0.2222222222222222,
             "#7201a8"
            ],
            [
             0.3333333333333333,
             "#9c179e"
            ],
            [
             0.4444444444444444,
             "#bd3786"
            ],
            [
             0.5555555555555556,
             "#d8576b"
            ],
            [
             0.6666666666666666,
             "#ed7953"
            ],
            [
             0.7777777777777778,
             "#fb9f3a"
            ],
            [
             0.8888888888888888,
             "#fdca26"
            ],
            [
             1,
             "#f0f921"
            ]
           ]
          },
          "colorway": [
           "#636efa",
           "#EF553B",
           "#00cc96",
           "#ab63fa",
           "#FFA15A",
           "#19d3f3",
           "#FF6692",
           "#B6E880",
           "#FF97FF",
           "#FECB52"
          ],
          "font": {
           "color": "#2a3f5f"
          },
          "geo": {
           "bgcolor": "white",
           "lakecolor": "white",
           "landcolor": "#E5ECF6",
           "showlakes": true,
           "showland": true,
           "subunitcolor": "white"
          },
          "hoverlabel": {
           "align": "left"
          },
          "hovermode": "closest",
          "mapbox": {
           "style": "light"
          },
          "paper_bgcolor": "white",
          "plot_bgcolor": "#E5ECF6",
          "polar": {
           "angularaxis": {
            "gridcolor": "white",
            "linecolor": "white",
            "ticks": ""
           },
           "bgcolor": "#E5ECF6",
           "radialaxis": {
            "gridcolor": "white",
            "linecolor": "white",
            "ticks": ""
           }
          },
          "scene": {
           "xaxis": {
            "backgroundcolor": "#E5ECF6",
            "gridcolor": "white",
            "gridwidth": 2,
            "linecolor": "white",
            "showbackground": true,
            "ticks": "",
            "zerolinecolor": "white"
           },
           "yaxis": {
            "backgroundcolor": "#E5ECF6",
            "gridcolor": "white",
            "gridwidth": 2,
            "linecolor": "white",
            "showbackground": true,
            "ticks": "",
            "zerolinecolor": "white"
           },
           "zaxis": {
            "backgroundcolor": "#E5ECF6",
            "gridcolor": "white",
            "gridwidth": 2,
            "linecolor": "white",
            "showbackground": true,
            "ticks": "",
            "zerolinecolor": "white"
           }
          },
          "shapedefaults": {
           "line": {
            "color": "#2a3f5f"
           }
          },
          "ternary": {
           "aaxis": {
            "gridcolor": "white",
            "linecolor": "white",
            "ticks": ""
           },
           "baxis": {
            "gridcolor": "white",
            "linecolor": "white",
            "ticks": ""
           },
           "bgcolor": "#E5ECF6",
           "caxis": {
            "gridcolor": "white",
            "linecolor": "white",
            "ticks": ""
           }
          },
          "title": {
           "x": 0.05
          },
          "xaxis": {
           "automargin": true,
           "gridcolor": "white",
           "linecolor": "white",
           "ticks": "",
           "title": {
            "standoff": 15
           },
           "zerolinecolor": "white",
           "zerolinewidth": 2
          },
          "yaxis": {
           "automargin": true,
           "gridcolor": "white",
           "linecolor": "white",
           "ticks": "",
           "title": {
            "standoff": 15
           },
           "zerolinecolor": "white",
           "zerolinewidth": 2
          }
         }
        }
       }
      },
      "image/png": "[encoded data removed]",
      "text/html": [
       "<div>                            <div id=\"ec199177-9a97-4e30-9f3a-38e76515e02f\" class=\"plotly-graph-div\" style=\"height:525px; width:100%;\"></div>            <script type=\"text/javascript\">                require([\"plotly\"], function(Plotly) {                    window.PLOTLYENV=window.PLOTLYENV || {};                                    if (document.getElementById(\"ec199177-9a97-4e30-9f3a-38e76515e02f\")) {                    Plotly.newPlot(                        \"ec199177-9a97-4e30-9f3a-38e76515e02f\",                        [{\"coloraxis\":\"coloraxis\",\"customdata\":[[0.0,1.0],[1.0,1.0],[2.0,1.0]],\"featureidkey\":\"id\",\"geojson\":{\"type\":\"FeatureCollection\",\"features\":[{\"type\":\"Feature\",\"geometry\":{\"type\":\"Polygon\",\"coordinates\":[[[-0.116092,51.509865],[-0.111092,51.509865],[-0.113092,51.506865],[-0.116092,51.509865]]]},\"properties\":{},\"id\":0},{\"type\":\"Feature\",\"geometry\":{\"type\":\"Polygon\",\"coordinates\":[[[-0.1134253,51.5108757],[-0.1128643,51.5108452],[-0.1123203,51.5107545],[-0.1118099,51.5106063],[-0.1113486,51.5104053],[-0.1109504,51.5101574],[-0.1106274,51.5098703],[-0.1103894,51.5095527],[-0.1102437,51.5092141],[-0.1101947,51.508865],[-0.1102438,51.5085158],[-0.1103895,51.5081773],[-0.1106275,51.5078596],[-0.1109506,51.5075725],[-0.1113488,51.5073247],[-0.11181,51.5071236],[-0.1123204,51.5069755],[-0.1128643,51.5068848],[-0.1134253,51.5068543],[-0.1139863,51.5068848],[-0.1145302,51.5069755],[-0.1150406,51.5071236],[-0.1155018,51.5073247],[-0.1159,51.5075725],[-0.1162231,51.5078596],[-0.1164611,51.5081773],[-0.1166068,51.5085158],[-0.1166559,51.508865],[-0.1166069,51.5092141],[-0.1164612,51.5095527],[-0.1162232,51.5098703],[-0.1159002,51.5101574],[-0.115502,51.5104053],[-0.1150407,51.5106063],[-0.1145303,51.5107545],[-0.1139863,51.5108452],[-0.1134253,51.5108757]]]},\"properties\":{},\"id\":1},{\"type\":\"Feature\",\"geometry\":{\"type\":\"Polygon\",\"coordinates\":[[[-0.116092,51.509865],[-0.111092,51.509865],[-0.111092,51.506865],[-0.116092,51.506865],[-0.116092,51.509865]]]},\"properties\":{},\"id\":2}]},\"hovertemplate\":\"id=%{customdata[0]}\\u003cbr\\u003eweight=%{z}\\u003cextra\\u003e\\u003c\\u002fextra\\u003e\",\"locations\":[0,1,2],\"marker\":{\"opacity\":0.5},\"name\":\"\",\"subplot\":\"mapbox\",\"z\":[1.0,1.0,1.0],\"type\":\"choroplethmapbox\"}],                        {\"template\":{\"data\":{\"histogram2dcontour\":[{\"type\":\"histogram2dcontour\",\"colorbar\":{\"outlinewidth\":0,\"ticks\":\"\"},\"colorscale\":[[0.0,\"#0d0887\"],[0.1111111111111111,\"#46039f\"],[0.2222222222222222,\"#7201a8\"],[0.3333333333333333,\"#9c179e\"],[0.4444444444444444,\"#bd3786\"],[0.5555555555555556,\"#d8576b\"],[0.6666666666666666,\"#ed7953\"],[0.7777777777777778,\"#fb9f3a\"],[0.8888888888888888,\"#fdca26\"],[1.0,\"#f0f921\"]]}],\"choropleth\":[{\"type\":\"choropleth\",\"colorbar\":{\"outlinewidth\":0,\"ticks\":\"\"}}],\"histogram2d\":[{\"type\":\"histogram2d\",\"colorbar\":{\"outlinewidth\":0,\"ticks\":\"\"},\"colorscale\":[[0.0,\"#0d0887\"],[0.1111111111111111,\"#46039f\"],[0.2222222222222222,\"#7201a8\"],[0.3333333333333333,\"#9c179e\"],[0.4444444444444444,\"#bd3786\"],[0.5555555555555556,\"#d8576b\"],[0.6666666666666666,\"#ed7953\"],[0.7777777777777778,\"#fb9f3a\"],[0.8888888888888888,\"#fdca26\"],[1.0,\"#f0f921\"]]}],\"heatmap\":[{\"type\":\"heatmap\",\"colorbar\":{\"outlinewidth\":0,\"ticks\":\"\"},\"colorscale\":[[0.0,\"#0d0887\"],[0.1111111111111111,\"#46039f\"],[0.2222222222222222,\"#7201a8\"],[0.3333333333333333,\"#9c179e\"],[0.4444444444444444,\"#bd3786\"],[0.5555555555555556,\"#d8576b\"],[0.6666666666666666,\"#ed7953\"],[0.7777777777777778,\"#fb9f3a\"],[0.8888888888888888,\"#fdca26\"],[1.0,\"#f0f921\"]]}],\"heatmapgl\":[{\"type\":\"heatmapgl\",\"colorbar\":{\"outlinewidth\":0,\"ticks\":\"\"},\"colorscale\":[[0.0,\"#0d0887\"],[0.1111111111111111,\"#46039f\"],[0.2222222222222222,\"#7201a8\"],[0.3333333333333333,\"#9c179e\"],[0.4444444444444444,\"#bd3786\"],[0.5555555555555556,\"#d8576b\"],[0.6666666666666666,\"#ed7953\"],[0.7777777777777778,\"#fb9f3a\"],[0.8888888888888888,\"#fdca26\"],[1.0,\"#f0f921\"]]}],\"contourcarpet\":[{\"type\":\"contourcarpet\",\"colorbar\":{\"outlinewidth\":0,\"ticks\":\"\"}}],\"contour\":[{\"type\":\"contour\",\"colorbar\":{\"outlinewidth\":0,\"ticks\":\"\"},\"colorscale\":[[0.0,\"#0d0887\"],[0.1111111111111111,\"#46039f\"],[0.2222222222222222,\"#7201a8\"],[0.3333333333333333,\"#9c179e\"],[0.4444444444444444,\"#bd3786\"],[0.5555555555555556,\"#d8576b\"],[0.6666666666666666,\"#ed7953\"],[0.7777777777777778,\"#fb9f3a\"],[0.8888888888888888,\"#fdca26\"],[1.0,\"#f0f921\"]]}],\"surface\":[{\"type\":\"surface\",\"colorbar\":{\"outlinewidth\":0,\"ticks\":\"\"},\"colorscale\":[[0.0,\"#0d0887\"],[0.1111111111111111,\"#46039f\"],[0.2222222222222222,\"#7201a8\"],[0.3333333333333333,\"#9c179e\"],[0.4444444444444444,\"#bd3786\"],[0.5555555555555556,\"#d8576b\"],[0.6666666666666666,\"#ed7953\"],[0.7777777777777778,\"#fb9f3a\"],[0.8888888888888888,\"#fdca26\"],[1.0,\"#f0f921\"]]}],\"mesh3d\":[{\"type\":\"mesh3d\",\"colorbar\":{\"outlinewidth\":0,\"ticks\":\"\"}}],\"scatter\":[{\"fillpattern\":{\"fillmode\":\"overlay\",\"size\":10,\"solidity\":0.2},\"type\":\"scatter\"}],\"parcoords\":[{\"type\":\"parcoords\",\"line\":{\"colorbar\":{\"outlinewidth\":0,\"ticks\":\"\"}}}],\"scatterpolargl\":[{\"type\":\"scatterpolargl\",\"marker\":{\"colorbar\":{\"outlinewidth\":0,\"ticks\":\"\"}}}],\"bar\":[{\"error_x\":{\"color\":\"#2a3f5f\"},\"error_y\":{\"color\":\"#2a3f5f\"},\"marker\":{\"line\":{\"color\":\"#E5ECF6\",\"width\":0.5},\"pattern\":{\"fillmode\":\"overlay\",\"size\":10,\"solidity\":0.2}},\"type\":\"bar\"}],\"scattergeo\":[{\"type\":\"scattergeo\",\"marker\":{\"colorbar\":{\"outlinewidth\":0,\"ticks\":\"\"}}}],\"scatterpolar\":[{\"type\":\"scatterpolar\",\"marker\":{\"colorbar\":{\"outlinewidth\":0,\"ticks\":\"\"}}}],\"histogram\":[{\"marker\":{\"pattern\":{\"fillmode\":\"overlay\",\"size\":10,\"solidity\":0.2}},\"type\":\"histogram\"}],\"scattergl\":[{\"type\":\"scattergl\",\"marker\":{\"colorbar\":{\"outlinewidth\":0,\"ticks\":\"\"}}}],\"scatter3d\":[{\"type\":\"scatter3d\",\"line\":{\"colorbar\":{\"outlinewidth\":0,\"ticks\":\"\"}},\"marker\":{\"colorbar\":{\"outlinewidth\":0,\"ticks\":\"\"}}}],\"scattermapbox\":[{\"type\":\"scattermapbox\",\"marker\":{\"colorbar\":{\"outlinewidth\":0,\"ticks\":\"\"}}}],\"scatterternary\":[{\"type\":\"scatterternary\",\"marker\":{\"colorbar\":{\"outlinewidth\":0,\"ticks\":\"\"}}}],\"scattercarpet\":[{\"type\":\"scattercarpet\",\"marker\":{\"colorbar\":{\"outlinewidth\":0,\"ticks\":\"\"}}}],\"carpet\":[{\"aaxis\":{\"endlinecolor\":\"#2a3f5f\",\"gridcolor\":\"white\",\"linecolor\":\"white\",\"minorgridcolor\":\"white\",\"startlinecolor\":\"#2a3f5f\"},\"baxis\":{\"endlinecolor\":\"#2a3f5f\",\"gridcolor\":\"white\",\"linecolor\":\"white\",\"minorgridcolor\":\"white\",\"startlinecolor\":\"#2a3f5f\"},\"type\":\"carpet\"}],\"table\":[{\"cells\":{\"fill\":{\"color\":\"#EBF0F8\"},\"line\":{\"color\":\"white\"}},\"header\":{\"fill\":{\"color\":\"#C8D4E3\"},\"line\":{\"color\":\"white\"}},\"type\":\"table\"}],\"barpolar\":[{\"marker\":{\"line\":{\"color\":\"#E5ECF6\",\"width\":0.5},\"pattern\":{\"fillmode\":\"overlay\",\"size\":10,\"solidity\":0.2}},\"type\":\"barpolar\"}],\"pie\":[{\"automargin\":true,\"type\":\"pie\"}]},\"layout\":{\"autotypenumbers\":\"strict\",\"colorway\":[\"#636efa\",\"#EF553B\",\"#00cc96\",\"#ab63fa\",\"#FFA15A\",\"#19d3f3\",\"#FF6692\",\"#B6E880\",\"#FF97FF\",\"#FECB52\"],\"font\":{\"color\":\"#2a3f5f\"},\"hovermode\":\"closest\",\"hoverlabel\":{\"align\":\"left\"},\"paper_bgcolor\":\"white\",\"plot_bgcolor\":\"#E5ECF6\",\"polar\":{\"bgcolor\":\"#E5ECF6\",\"angularaxis\":{\"gridcolor\":\"white\",\"linecolor\":\"white\",\"ticks\":\"\"},\"radialaxis\":{\"gridcolor\":\"white\",\"linecolor\":\"white\",\"ticks\":\"\"}},\"ternary\":{\"bgcolor\":\"#E5ECF6\",\"aaxis\":{\"gridcolor\":\"white\",\"linecolor\":\"white\",\"ticks\":\"\"},\"baxis\":{\"gridcolor\":\"white\",\"linecolor\":\"white\",\"ticks\":\"\"},\"caxis\":{\"gridcolor\":\"white\",\"linecolor\":\"white\",\"ticks\":\"\"}},\"coloraxis\":{\"colorbar\":{\"outlinewidth\":0,\"ticks\":\"\"}},\"colorscale\":{\"sequential\":[[0.0,\"#0d0887\"],[0.1111111111111111,\"#46039f\"],[0.2222222222222222,\"#7201a8\"],[0.3333333333333333,\"#9c179e\"],[0.4444444444444444,\"#bd3786\"],[0.5555555555555556,\"#d8576b\"],[0.6666666666666666,\"#ed7953\"],[0.7777777777777778,\"#fb9f3a\"],[0.8888888888888888,\"#fdca26\"],[1.0,\"#f0f921\"]],\"sequentialminus\":[[0.0,\"#0d0887\"],[0.1111111111111111,\"#46039f\"],[0.2222222222222222,\"#7201a8\"],[0.3333333333333333,\"#9c179e\"],[0.4444444444444444,\"#bd3786\"],[0.5555555555555556,\"#d8576b\"],[0.6666666666666666,\"#ed7953\"],[0.7777777777777778,\"#fb9f3a\"],[0.8888888888888888,\"#fdca26\"],[1.0,\"#f0f921\"]],\"diverging\":[[0,\"#8e0152\"],[0.1,\"#c51b7d\"],[0.2,\"#de77ae\"],[0.3,\"#f1b6da\"],[0.4,\"#fde0ef\"],[0.5,\"#f7f7f7\"],[0.6,\"#e6f5d0\"],[0.7,\"#b8e186\"],[0.8,\"#7fbc41\"],[0.9,\"#4d9221\"],[1,\"#276419\"]]},\"xaxis\":{\"gridcolor\":\"white\",\"linecolor\":\"white\",\"ticks\":\"\",\"title\":{\"standoff\":15},\"zerolinecolor\":\"white\",\"automargin\":true,\"zerolinewidth\":2},\"yaxis\":{\"gridcolor\":\"white\",\"linecolor\":\"white\",\"ticks\":\"\",\"title\":{\"standoff\":15},\"zerolinecolor\":\"white\",\"automargin\":true,\"zerolinewidth\":2},\"scene\":{\"xaxis\":{\"backgroundcolor\":\"#E5ECF6\",\"gridcolor\":\"white\",\"linecolor\":\"white\",\"showbackground\":true,\"ticks\":\"\",\"zerolinecolor\":\"white\",\"gridwidth\":2},\"yaxis\":{\"backgroundcolor\":\"#E5ECF6\",\"gridcolor\":\"white\",\"linecolor\":\"white\",\"showbackground\":true,\"ticks\":\"\",\"zerolinecolor\":\"white\",\"gridwidth\":2},\"zaxis\":{\"backgroundcolor\":\"#E5ECF6\",\"gridcolor\":\"white\",\"linecolor\":\"white\",\"showbackground\":true,\"ticks\":\"\",\"zerolinecolor\":\"white\",\"gridwidth\":2}},\"shapedefaults\":{\"line\":{\"color\":\"#2a3f5f\"}},\"annotationdefaults\":{\"arrowcolor\":\"#2a3f5f\",\"arrowhead\":0,\"arrowwidth\":1},\"geo\":{\"bgcolor\":\"white\",\"landcolor\":\"#E5ECF6\",\"subunitcolor\":\"white\",\"showland\":true,\"showlakes\":true,\"lakecolor\":\"white\"},\"title\":{\"x\":0.05},\"mapbox\":{\"style\":\"light\"}}},\"geo\":{\"center\":{\"lat\":-0.11348086666666668,\"lon\":51.508698333333335},\"fitbounds\":\"locations\"},\"coloraxis\":{\"showscale\":false},\"mapbox\":{\"style\":\"carto-positron\"},\"showlegend\":false},                        {\"responsive\": true}                    ).then(function(){\n",
       "                            \n",
       "var gd = document.getElementById('ec199177-9a97-4e30-9f3a-38e76515e02f');\n",
       "var x = new MutationObserver(function (mutations, observer) {{\n",
       "        var display = window.getComputedStyle(gd).display;\n",
       "        if (!display || display === 'none') {{\n",
       "            console.log([gd, 'removed!']);\n",
       "            Plotly.purge(gd);\n",
       "            observer.disconnect();\n",
       "        }}\n",
       "}});\n",
       "\n",
       "// Listen for the removal of the full notebook cells\n",
       "var notebookContainer = gd.closest('#notebook-container');\n",
       "if (notebookContainer) {{\n",
       "    x.observe(notebookContainer, {childList: true});\n",
       "}}\n",
       "\n",
       "// Listen for the clearing of the current output cell\n",
       "var outputEl = gd.closest('.output');\n",
       "if (outputEl) {{\n",
       "    x.observe(outputEl, {childList: true});\n",
       "}}\n",
       "\n",
       "                        })                };                });            </script>        </div>"
      ]
     },
     "metadata": {},
     "output_type": "display_data"
    }
   ],
   "source": [
    "print(\"Coordinate is in polygon?\", Coordinate(-0.118092, 51.509865) in polygon)\n",
    "\n",
    "circle_around_polygon = polygon.circumscribing_circle()\n",
    "box_around_polygon = polygon.circumscribing_rectangle()\n",
    "\n",
    "draw_collection(FeatureCollection([polygon, circle_around_polygon, box_around_polygon]))"
   ]
  },
  {
   "cell_type": "code",
   "execution_count": 29,
   "id": "3c1e1aae-a8d1-43d1-8c26-821aa8caecbe",
   "metadata": {},
   "outputs": [
    {
     "data": {
      "text/plain": [
       "[<Coordinate(-0.1134253, 51.5108757)>,\n",
       " <Coordinate(-0.1128643, 51.5108452)>,\n",
       " <Coordinate(-0.1123203, 51.5107545)>,\n",
       " <Coordinate(-0.1118099, 51.5106063)>,\n",
       " <Coordinate(-0.1113486, 51.5104053)>,\n",
       " <Coordinate(-0.1109504, 51.5101574)>,\n",
       " <Coordinate(-0.1106274, 51.5098703)>,\n",
       " <Coordinate(-0.1103894, 51.5095527)>,\n",
       " <Coordinate(-0.1102437, 51.5092141)>,\n",
       " <Coordinate(-0.1101947, 51.5088650)>,\n",
       " <Coordinate(-0.1102438, 51.5085158)>,\n",
       " <Coordinate(-0.1103895, 51.5081773)>,\n",
       " <Coordinate(-0.1106275, 51.5078596)>,\n",
       " <Coordinate(-0.1109506, 51.5075725)>,\n",
       " <Coordinate(-0.1113488, 51.5073247)>,\n",
       " <Coordinate(-0.1118100, 51.5071236)>,\n",
       " <Coordinate(-0.1123204, 51.5069755)>,\n",
       " <Coordinate(-0.1128643, 51.5068848)>,\n",
       " <Coordinate(-0.1134253, 51.5068543)>,\n",
       " <Coordinate(-0.1139863, 51.5068848)>,\n",
       " <Coordinate(-0.1145302, 51.5069755)>,\n",
       " <Coordinate(-0.1150406, 51.5071236)>,\n",
       " <Coordinate(-0.1155018, 51.5073247)>,\n",
       " <Coordinate(-0.1159000, 51.5075725)>,\n",
       " <Coordinate(-0.1162231, 51.5078596)>,\n",
       " <Coordinate(-0.1164611, 51.5081773)>,\n",
       " <Coordinate(-0.1166068, 51.5085158)>,\n",
       " <Coordinate(-0.1166559, 51.5088650)>,\n",
       " <Coordinate(-0.1166069, 51.5092141)>,\n",
       " <Coordinate(-0.1164612, 51.5095527)>,\n",
       " <Coordinate(-0.1162232, 51.5098703)>,\n",
       " <Coordinate(-0.1159002, 51.5101574)>,\n",
       " <Coordinate(-0.1155020, 51.5104053)>,\n",
       " <Coordinate(-0.1150407, 51.5106063)>,\n",
       " <Coordinate(-0.1145303, 51.5107545)>,\n",
       " <Coordinate(-0.1139863, 51.5108452)>,\n",
       " <Coordinate(-0.1134253, 51.5108757)>]"
      ]
     },
     "execution_count": 29,
     "metadata": {},
     "output_type": "execute_result"
    }
   ],
   "source": [
    "circle_around_polygon.bounding_coords()"
   ]
  },
  {
   "cell_type": "markdown",
   "id": "3da37d81-74c4-49fd-acb8-3332051254d0",
   "metadata": {},
   "source": [
    "### Shape Conversions\n",
    "\n",
    "When you work with other Python libraries, you'll very often need to convert your geostructures into any number of formats. Geostructures provides easy methods for converting shapes into:\n",
    "* GeoJSON\n",
    "* Python Shapely objects\n",
    "* Well Known Text (WKT)\n",
    "\n",
    "Where supported, any properties given to your geoshape will be injected into the resulting data format. If you've bound your shapes by time, the resulting properties will be named `datetime_start` and `datetime_end`."
   ]
  },
  {
   "cell_type": "code",
   "execution_count": 30,
   "id": "a7e50246-ced1-4631-bcc4-5d7d591455a5",
   "metadata": {},
   "outputs": [
    {
     "data": {
      "text/plain": [
       "{'type': 'Feature',\n",
       " 'geometry': {'type': 'Polygon',\n",
       "  'coordinates': [[[0.0, 1.0], [1.0, 1.0], [0.5, 0.0], [0.0, 1.0]]]},\n",
       " 'properties': {'example property': 'example value',\n",
       "  'datetime_start': '2020-01-01T00:00:00+00:00',\n",
       "  'datetime_end': '2020-01-02T00:00:00+00:00'},\n",
       " 'root_level_property': 'another example'}"
      ]
     },
     "execution_count": 30,
     "metadata": {},
     "output_type": "execute_result"
    }
   ],
   "source": [
    "polygon = GeoPolygon(\n",
    "    [\n",
    "        Coordinate(0.0, 1.0), Coordinate(1.0, 1.0), \n",
    "        Coordinate(0.5, 0.0), Coordinate(0.0, 1.0)  # Note that the last coordinate is the same as the first\n",
    "    ],\n",
    "    dt=TimeInterval(datetime(2020, 1, 1), datetime(2020, 1, 2)),\n",
    "    properties={'example property': 'example value'}\n",
    ")\n",
    "\n",
    "# With GeoJSON, you can also specify 'root-level' properties to inject\n",
    "polygon.to_geojson(root_level_property='another example')"
   ]
  },
  {
   "cell_type": "code",
   "execution_count": 31,
   "id": "7cc9e485-4b40-4a4c-b29e-91faa1dd10a1",
   "metadata": {},
   "outputs": [
    {
     "data": {
      "text/plain": [
       "'POLYGON((0.0 1.0,1.0 1.0,0.5 0.0,0.0 1.0))'"
      ]
     },
     "execution_count": 31,
     "metadata": {},
     "output_type": "execute_result"
    }
   ],
   "source": [
    "polygon.to_wkt()"
   ]
  },
  {
   "cell_type": "code",
   "execution_count": 32,
   "id": "10b2e7ef-3df1-41b6-9a24-5d82f75bcb11",
   "metadata": {},
   "outputs": [
    {
     "data": {
      "image/svg+xml": [
       "<svg xmlns=\"http://www.w3.org/2000/svg\" xmlns:xlink=\"http://www.w3.org/1999/xlink\" width=\"100.0\" height=\"100.0\" viewBox=\"-0.04 -0.04 1.08 1.08\" preserveAspectRatio=\"xMinYMin meet\"><g transform=\"matrix(1,0,0,-1,0,1.0)\"><path fill-rule=\"evenodd\" fill=\"#66cc99\" stroke=\"#555555\" stroke-width=\"0.0216\" opacity=\"0.6\" d=\"M 0.0,1.0 L 1.0,1.0 L 0.5,0.0 L 0.0,1.0 z\" /></g></svg>"
      ],
      "text/plain": [
       "<POLYGON ((0 1, 1 1, 0.5 0, 0 1))>"
      ]
     },
     "execution_count": 32,
     "metadata": {},
     "output_type": "execute_result"
    }
   ],
   "source": [
    "polygon.to_shapely()"
   ]
  },
  {
   "cell_type": "code",
   "execution_count": null,
   "id": "47ac2c1a-c690-47fc-b705-c53a2fd2410c",
   "metadata": {},
   "outputs": [],
   "source": []
  }
 ],
 "metadata": {
  "kernelspec": {
   "display_name": "Python 3 (ipykernel)",
   "language": "python",
   "name": "python3"
  },
  "language_info": {
   "codemirror_mode": {
    "name": "ipython",
    "version": 3
   },
   "file_extension": ".py",
   "mimetype": "text/x-python",
   "name": "python",
   "nbconvert_exporter": "python",
   "pygments_lexer": "ipython3",
   "version": "3.9.0"
  }
 },
 "nbformat": 4,
 "nbformat_minor": 5
}

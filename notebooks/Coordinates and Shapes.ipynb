{
 "cells": [
  {
   "cell_type": "markdown",
   "id": "953bd935-9018-4fec-8a30-ed6024a0158c",
   "metadata": {},
   "source": [
    "# Geostructures: Working with Coordinates and Shapes\n",
    "\n",
    "This notebook will demonstrate:\n",
    "* Coordinates\n",
    "* Creating shapes\n",
    "* Bounding shapes by time\n",
    "* Shape operations\n",
    "* Converting shapes into alternate formats"
   ]
  },
  {
   "cell_type": "code",
   "execution_count": null,
   "id": "4ca62c82-98a9-4251-bbba-80edf95bc2d1",
   "metadata": {},
   "outputs": [],
   "source": [
    "# If you've git cloned this repo, run this cell to add `geostructures` to your python path\n",
    "import sys\n",
    "sys.path.insert(0, '../')"
   ]
  },
  {
   "cell_type": "code",
   "execution_count": null,
   "id": "bbed135f-b064-45bc-b30c-c518e7efa540",
   "metadata": {},
   "outputs": [],
   "source": [
    "from datetime import datetime\n",
    "\n",
    "from geostructures import *\n",
    "from geostructures.time import TimeInterval\n",
    "from geostructures.visualization.plotly import draw_collection"
   ]
  },
  {
   "cell_type": "markdown",
   "id": "42809712-f786-47d8-8a12-cce2562b8838",
   "metadata": {},
   "source": [
    "## Coordinates\n",
    "\n",
    "Geostructures provides a `Coordinate` object that can be instanced with the longitude and latitude (in that order). It's important to note that geostructures expects all coordinates to be defined using the WGS84 standard."
   ]
  },
  {
   "cell_type": "code",
   "execution_count": null,
   "id": "39670726-7525-4cac-907a-f74e342398ec",
   "metadata": {},
   "outputs": [],
   "source": [
    "# All of these are equivalent\n",
    "centroid = Coordinate(-0.118092, 51.509865)\n",
    "centroid = Coordinate('-0.118092', '51.509865')\n",
    "centroid = Coordinate(\n",
    "    longitude=-0.118092, \n",
    "    latitude=51.509865\n",
    ")"
   ]
  },
  {
   "cell_type": "markdown",
   "id": "fa665e1c-3748-4922-94ac-d24118fc1577",
   "metadata": {},
   "source": [
    "### Working with alternate formats\n",
    "\n",
    "Coordinates are most often found in decimal format, but many different systems exist. Geostructures can create coordinates from and convert them back to:\n",
    "* Degrees, minutes, seconds\n",
    "* Quadrant format\n",
    "* MGRS"
   ]
  },
  {
   "cell_type": "code",
   "execution_count": null,
   "id": "09cb4739-9806-4da5-a1f2-c4de847cff5f",
   "metadata": {
    "scrolled": true
   },
   "outputs": [],
   "source": [
    "centroid = Coordinate.from_dms(\n",
    "    (0, 7, 5.1312, 'W'), (51, 30, 35.514, 'N')  # degrees, minutes, seconds\n",
    ")\n",
    "\n",
    "centroid = Coordinate.from_qdms(\n",
    "    'W000070513',\n",
    "    'N51303551'\n",
    ")\n",
    "\n",
    "centroid = Coordinate.from_mgrs('30UXC9997810464')"
   ]
  },
  {
   "cell_type": "code",
   "execution_count": null,
   "id": "475859a6-68d7-45c9-8ad6-eb9a255bf4aa",
   "metadata": {},
   "outputs": [],
   "source": [
    "print(\"Degrees, minutes, seconds:\", centroid.to_dms())\n",
    "print(\"Quadrant format:\", centroid.to_qdms())\n",
    "print(\"MGRS:\", centroid.to_mgrs())"
   ]
  },
  {
   "cell_type": "markdown",
   "id": "0aae2024-90aa-41bf-a7b6-b38e296c8fc5",
   "metadata": {},
   "source": [
    "## Creating Shapes\n",
    "\n",
    "Geostructures are created using the bare minimum information needed - there's no need to calculate bounding points. We define each shape according to its mathematical definition up until we need to convert it to be used by something else (for example, a well known text string)\n",
    "\n",
    "Geostructures currently supports the following shapes:\n",
    "* GeoBox: a square, defined by its northwest and southeast coordinates. Note that because of the curvature of the earth, this shape will in reality be trapezoidal\n",
    "* GeoCircle: a perfect circle, defined by a centerpoint and radius\n",
    "* GeoEllipse: an oval, defined by a centerpoint, major axis, minor axis, and rotation\n",
    "* GeoRing: a perfect ring, defined by a centerpoint, inner radius, and outer radius. You can also create a Wedge shape by passing values to the angle_min and angle_max parameters\n",
    "* GeoLineString: a path, defined by an ordered series of coordinates**\n",
    "* GeoPoint: a single point\n",
    "\n",
    "Geostructures defines all distance measurements in meters, and all angles are relative to true north.\n",
    "\n",
    "**When working with Linestrings, keep in mind that bounding a linestring by time applies to all coordinates in the linestring. If your points each have associated times, you may want to use the `geostructures.collections.Track` object instead."
   ]
  },
  {
   "cell_type": "code",
   "execution_count": null,
   "id": "59561161-0161-4194-9d26-e734454d5178",
   "metadata": {},
   "outputs": [],
   "source": [
    "from geostructures import *\n",
    "from geostructures.collections import FeatureCollection\n",
    "from geostructures.time import TimeInterval\n",
    "\n",
    "box = GeoBox(\n",
    "    Coordinate(-0.154092, 51.539865),  # Northwest corner\n",
    "    Coordinate(-0.140592, 51.505665)    # Southeast corner\n",
    ")\n",
    "\n",
    "circle = GeoCircle(Coordinate(-0.131092, 51.509865), radius=500)\n",
    "\n",
    "ellipse = GeoEllipse(\n",
    "    Coordinate(-0.093092, 51.529865), \n",
    "    major_axis=1_000, # The distance between the centerpoint and the furthest point along the circumference\n",
    "    minor_axis=250,   # The distance between the centerpoint and the closest point along the circumference\n",
    "    rotation=45       # The angle of rotation (between 0 and 360)\n",
    ")\n",
    "\n",
    "ring = GeoRing(\n",
    "    Coordinate(-0.116092, 51.519865),\n",
    "    inner_radius=800,\n",
    "    outer_radius=1000,\n",
    ")\n",
    "\n",
    "wedge = GeoRing(\n",
    "    Coordinate(-0.101092, 51.514865),\n",
    "    inner_radius=300,\n",
    "    outer_radius=500,\n",
    "    angle_min=60,    # The minimum angle of the wedge\n",
    "    angle_max=190,   # The maximum angle of the wedge\n",
    ")\n",
    "\n",
    "linestring = GeoLineString(\n",
    "    [\n",
    "        Coordinate(-0.123092, 51.515865), Coordinate(-0.118092, 51.514665), Coordinate(-0.116092, 51.514865),\n",
    "        Coordinate(-0.116092, 51.518865), Coordinate(-0.108092, 51.512865)\n",
    "    ]\n",
    ")\n",
    "\n",
    "point = GeoPoint(Coordinate(-0.116092, 51.519865))\n",
    "\n",
    "polygon = GeoPolygon(\n",
    "    [\n",
    "        Coordinate(-0.116092, 51.509865), Coordinate(-0.113092, 51.506865), \n",
    "        Coordinate(-0.111092, 51.509865), Coordinate(-0.116092, 51.509865)  # Note that the last coordinate is the same as the first\n",
    "    ]\n",
    ")\n",
    "\n",
    "collection = FeatureCollection([box, circle, ellipse, ring, wedge, linestring, point, polygon])\n",
    "draw_collection(collection)"
   ]
  },
  {
   "cell_type": "markdown",
   "id": "38d2ae93-1a63-44d6-8eec-a83fba8041e7",
   "metadata": {},
   "source": [
    "### Defining Holes in Shapes\n",
    "\n",
    "Geostructures makes it similarly easy to define shapes with holes - just use another shape!"
   ]
  },
  {
   "cell_type": "code",
   "execution_count": null,
   "id": "499bab2a-e43b-4030-b9fd-d08fa9ea7b57",
   "metadata": {},
   "outputs": [],
   "source": [
    "circle_w_hole = GeoCircle(\n",
    "    Coordinate(-0.131092, 51.509865),\n",
    "    radius=500,\n",
    "    holes=[\n",
    "        GeoEllipse(Coordinate(-0.131092, 51.509865), 200, 100, 75)\n",
    "    ]\n",
    ")\n",
    "draw_collection(FeatureCollection([circle_w_hole]))"
   ]
  },
  {
   "cell_type": "markdown",
   "id": "0538452c-7080-4efe-aa68-21aaa79a8032",
   "metadata": {},
   "source": [
    "#### Quick note: The GeoJSON Right Hand Rule\n",
    "\n",
    "GeoJSON's spec (and really most other standards too) demands that all shapes' outer shells be defined in counter-clockwise order, and all holes be defined in clockwise order. Geostructures handles this for you and will invert the coordinate order if it finds a violation."
   ]
  },
  {
   "cell_type": "code",
   "execution_count": null,
   "id": "2580b916-15a5-40f3-bb09-33a9796e758d",
   "metadata": {},
   "outputs": [],
   "source": [
    "# Will throw a warning and then invert the coordinate order\n",
    "polygon = GeoPolygon(\n",
    "    [\n",
    "        Coordinate(-0.116092, 51.509865), Coordinate(-0.111092, 51.509865), \n",
    "        Coordinate(-0.113092, 51.506865), Coordinate(-0.116092, 51.509865)  # Note that the last coordinate is the same as the first\n",
    "    ]\n",
    ")"
   ]
  },
  {
   "cell_type": "markdown",
   "id": "1721d6b1-954e-455d-94e0-b6e7ea54742f",
   "metadata": {},
   "source": [
    "## Bounding Shapes by Time\n",
    "\n",
    "Geostructures allows you to define shapes by a point or interval in time using the `dt` parameter. This effectively adds a third axis, so bounding a shape this way will affect how geometric operations (such as `contains` or `intersects`) occur.\n",
    "\n",
    "We always recommend using UTC time, so any time property passed will default to UTC unless you've already specified otherwise"
   ]
  },
  {
   "cell_type": "code",
   "execution_count": null,
   "id": "0b77f67b-a67b-4891-8af6-67d7bd963dc4",
   "metadata": {},
   "outputs": [],
   "source": [
    "# This circle is 'timeless', which is functionally equivalent to eternal\n",
    "circle = GeoCircle(\n",
    "    Coordinate(-0.118092, 51.509865), \n",
    "    radius=5000\n",
    ")\n",
    "\n",
    "# This circle only exists at midnight, January 1st 2020\n",
    "circle = GeoCircle(\n",
    "    Coordinate(-0.118092, 51.509865), \n",
    "    radius=5000, \n",
    "    dt=datetime(2020, 1, 1)\n",
    ")\n",
    "\n",
    "# This circle exists between midnight, January 1st 2020 and noon, January 3rd 2020\n",
    "circle2 = GeoCircle(\n",
    "    Coordinate(-0.118092, 51.509865), \n",
    "    radius=5000, \n",
    "    dt=TimeInterval(datetime(2020, 1, 1), datetime(2020, 1, 3, 12))\n",
    ")"
   ]
  },
  {
   "cell_type": "code",
   "execution_count": null,
   "id": "7640dd27-ca56-403c-81f6-f8abc20934be",
   "metadata": {},
   "outputs": [],
   "source": [
    "print(\"January 2 point inside circle?\", GeoPoint(Coordinate(-0.118092, 51.509865), dt=datetime(2020, 1, 2)) in circle2)\n",
    "print(\"January 5 point inside circle?\", GeoPoint(Coordinate(-0.118092, 51.509865), dt=datetime(2020, 1, 5)) in circle2)"
   ]
  },
  {
   "cell_type": "markdown",
   "id": "9af7e41f-be8c-41a5-829f-72d9e5e58b12",
   "metadata": {},
   "source": [
    "# Shape Operations\n",
    "\n",
    "Each geostructure comes with several geometric operations you can apply:\n",
    "* Calculate the centroid, area (meters squared) and volume (meters squared seconds)\n",
    "* Draw a circumscribing circle or rectangle around the shape\n",
    "* Create a list of coordinates that define the outermost border and any holes present\n",
    "* Test whether a point falls within the shape"
   ]
  },
  {
   "cell_type": "markdown",
   "id": "09b8c1b2-caad-4c37-a516-0afa748321ee",
   "metadata": {},
   "source": [
    "### Centroid, Area, and Volume"
   ]
  },
  {
   "cell_type": "code",
   "execution_count": null,
   "id": "b2ce3f95-fa60-48b4-8f46-2bde887e9ebb",
   "metadata": {},
   "outputs": [],
   "source": [
    "polygon = GeoPolygon(\n",
    "    [\n",
    "        Coordinate(-0.116092, 51.509865), Coordinate(-0.113092, 51.506865), \n",
    "        Coordinate(-0.111092, 51.509865), Coordinate(-0.116092, 51.509865)  # Note that the last coordinate is the same as the first\n",
    "    ],\n",
    "    dt=TimeInterval(datetime(2020, 1, 1), datetime(2020, 1, 2))\n",
    ")\n",
    "\n",
    "print(\"Centroid:\", polygon.centroid)\n",
    "\n",
    "# The area of the shape across the spatial plane, in meters squared\n",
    "print(\"Area:\", polygon.area)\n",
    "\n",
    "# The volume of the shape across the spatial and time planes, in meters squared seconds (accurate to microseconds)\n",
    "print(\"Volume:\", polygon.volume)"
   ]
  },
  {
   "cell_type": "markdown",
   "id": "8d970e2b-925a-4b89-8e0a-675e3735f175",
   "metadata": {},
   "source": [
    "### Circumscribing Circles and Rectangles"
   ]
  },
  {
   "cell_type": "code",
   "execution_count": null,
   "id": "79bced41-eec2-40e7-a4b0-daa2e8aeaf53",
   "metadata": {},
   "outputs": [],
   "source": [
    "circle_around_polygon = polygon.circumscribing_circle()\n",
    "box_around_polygon = polygon.circumscribing_rectangle()\n",
    "\n",
    "draw_collection(FeatureCollection([polygon, circle_around_polygon, box_around_polygon]))"
   ]
  },
  {
   "cell_type": "markdown",
   "id": "e0e9146e-a45f-4a0d-9972-5b80ef657dae",
   "metadata": {},
   "source": [
    "### Bounding Coordinates and Linear Rings\n",
    "\n",
    "Note: the term \"bounding coordinates\" is used to refer to the *outermost shell only*, whereas \"linear rings\" is inclusive of any holes present."
   ]
  },
  {
   "cell_type": "code",
   "execution_count": null,
   "id": "3c1e1aae-a8d1-43d1-8c26-821aa8caecbe",
   "metadata": {
    "scrolled": true
   },
   "outputs": [],
   "source": [
    "# Will produce a list of the coordinates that comprise the outer shell of the shape\n",
    "circle_around_polygon.bounding_coords()"
   ]
  },
  {
   "cell_type": "code",
   "execution_count": null,
   "id": "7d382ee6-fd94-421a-9650-febae649f883",
   "metadata": {},
   "outputs": [],
   "source": [
    "# Note that we have a list of two rings now - the first element will always be the bounding coordinates, and the following\n",
    "# elements will always be the holes\n",
    "circle_w_hole.linear_rings()"
   ]
  },
  {
   "cell_type": "markdown",
   "id": "3cc0c039-4bf0-43f9-9e24-fad080da1188",
   "metadata": {},
   "source": [
    "### Intersects, Contains, and Point in Polygon\n",
    "\n",
    "You can also test shape/time intersection in geostructures using:\n",
    "\n",
    "* `.intersects_time()` - tests only the time dimension\n",
    "* `.intersects_shape()` - tests only the spatial dimensions\n",
    "* `.intersects()` - equivalent to .intersects_time() and .intersects_shape()\n",
    "\n",
    "The same three methods exist for `contains()` as well"
   ]
  },
  {
   "cell_type": "code",
   "execution_count": null,
   "id": "0ddc8921-2d8a-4cfc-a715-b390ba5b62f8",
   "metadata": {},
   "outputs": [],
   "source": [
    "circle1 = GeoCircle(\n",
    "    Coordinate(-0.118072, 51.509875), \n",
    "    5000, \n",
    "    dt=TimeInterval(datetime(2020, 1, 2), datetime(2020, 1, 3))\n",
    ")  \n",
    "\n",
    "# Test whether two shapes intersect across spatial and time bounds\n",
    "circle2 = GeoCircle(\n",
    "    Coordinate(-0.118072, 51.509875), # same centerpoint as circle1\n",
    "    500, \n",
    "    dt=TimeInterval(datetime(2020, 1, 2, 12), datetime(2020, 1, 3, 12))\n",
    ")        \n",
    "print(\"Do these circles intersect in time?\", circle.intersects_time(circle2))\n",
    "print(\"Do these circles intersect in space?\", circle.intersects_shape(circle2))\n",
    "print(\"Do these circles intersect in both?\", circle.intersects(circle2))\n",
    "\n",
    "# Test whether one shape contains another\n",
    "circle2 = GeoCircle(Coordinate(-0.118092, 51.509865), 100, dt=TimeInterval(datetime(2020, 1, 1, 12), datetime(2020, 1, 1, 13)))        \n",
    "print(\"Does circle1 contain circle2?\", circle.contains(circle2))"
   ]
  },
  {
   "cell_type": "markdown",
   "id": "3da37d81-74c4-49fd-acb8-3332051254d0",
   "metadata": {},
   "source": [
    "### Shape Conversions\n",
    "\n",
    "When you work with other Python libraries, you'll very often need to convert your geostructures into any number of formats. Geostructures provides easy methods for converting shapes into:\n",
    "* GeoJSON\n",
    "* Python Shapely objects\n",
    "* Well Known Text (WKT)\n",
    "\n",
    "Where supported, any properties given to your geoshape will be injected into the resulting data format. If you've bound your shapes by time, the resulting properties will be named `datetime_start` and `datetime_end`."
   ]
  },
  {
   "cell_type": "markdown",
   "id": "ccfbb2ed-073f-48d2-9a79-e7ee9e157110",
   "metadata": {},
   "source": [
    "#### Converting to GeoJSON"
   ]
  },
  {
   "cell_type": "code",
   "execution_count": null,
   "id": "a7e50246-ced1-4631-bcc4-5d7d591455a5",
   "metadata": {},
   "outputs": [],
   "source": [
    "polygon = GeoPolygon(\n",
    "    [\n",
    "        Coordinate(0.0, 1.0), Coordinate(1.0, 1.0), \n",
    "        Coordinate(0.5, 0.0), Coordinate(0.0, 1.0)  # Note that the last coordinate is the same as the first\n",
    "    ],\n",
    "    dt=TimeInterval(datetime(2020, 1, 1), datetime(2020, 1, 2)),\n",
    "    properties={'example property': 'example value'}\n",
    ")\n",
    "\n",
    "# With GeoJSON, you can also specify 'root-level' properties to inject\n",
    "polygon.to_geojson(root_level_property='another example')"
   ]
  },
  {
   "cell_type": "markdown",
   "id": "27c6cfa8-4bbb-4c0c-97f2-4d68b134119e",
   "metadata": {},
   "source": [
    "#### Converting to WKT"
   ]
  },
  {
   "cell_type": "code",
   "execution_count": null,
   "id": "7cc9e485-4b40-4a4c-b29e-91faa1dd10a1",
   "metadata": {},
   "outputs": [],
   "source": [
    "polygon.to_wkt()"
   ]
  },
  {
   "cell_type": "markdown",
   "id": "747003ef-9a3d-4c99-bcaa-ac8db334200c",
   "metadata": {},
   "source": [
    "#### Converting to Shapely Objects"
   ]
  },
  {
   "cell_type": "code",
   "execution_count": null,
   "id": "10b2e7ef-3df1-41b6-9a24-5d82f75bcb11",
   "metadata": {},
   "outputs": [],
   "source": [
    "polygon.to_shapely()"
   ]
  },
  {
   "cell_type": "code",
   "execution_count": null,
   "id": "b20d3584-17f6-48cf-8571-4c5dc34cd253",
   "metadata": {},
   "outputs": [],
   "source": []
  }
 ],
 "metadata": {
  "kernelspec": {
   "display_name": "Python 3 (ipykernel)",
   "language": "python",
   "name": "python3"
  },
  "language_info": {
   "codemirror_mode": {
    "name": "ipython",
    "version": 3
   },
   "file_extension": ".py",
   "mimetype": "text/x-python",
   "name": "python",
   "nbconvert_exporter": "python",
   "pygments_lexer": "ipython3",
   "version": "3.9.6"
  }
 },
 "nbformat": 4,
 "nbformat_minor": 5
}

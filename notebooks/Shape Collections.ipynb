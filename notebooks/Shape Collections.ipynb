{
 "cells": [
  {
   "cell_type": "markdown",
   "id": "42b8d82e-eca4-49c9-8fd8-c9f4988f0644",
   "metadata": {},
   "source": [
    "# Geostructures: Shape Collections\n",
    "\n",
    "Geostructures provides two objects for working with collections of shapes:\n",
    "* `FeatureCollection`: A collection of shapes with no added requirements\n",
    "* `Track`: A chronologically-ordered collection of shapes (requires that each shape be time-bounded)\n",
    "\n",
    "This notebook will demonstrate:\n",
    "* Creating and plotting shape collections\n",
    "* Operations with shape collections\n",
    "* Converting collections to alternate formats (GeoJSON, GeoPandas, ESRI Shapefile)\n",
    "* Track Operations"
   ]
  },
  {
   "cell_type": "code",
   "execution_count": null,
   "id": "b8315d31-a04a-413c-a3d6-7df94fcad72f",
   "metadata": {},
   "outputs": [],
   "source": [
    "# If you've git cloned this repo, run this cell to add `geostructures` to your python path\n",
    "import sys\n",
    "sys.path.insert(0, '../')"
   ]
  },
  {
   "cell_type": "markdown",
   "id": "18fc0b3b-943f-4e5c-ae81-28770ae55a59",
   "metadata": {},
   "source": [
    "## FeatureCollections\n",
    "\n",
    "FeatureCollections are just that - collections of features. Simply pass a list of shapes to create one."
   ]
  },
  {
   "cell_type": "code",
   "execution_count": null,
   "id": "e5b5354b-63bd-4e0e-b594-31e2365e62f9",
   "metadata": {},
   "outputs": [],
   "source": [
    "from datetime import datetime\n",
    "\n",
    "from geostructures import *\n",
    "from geostructures.collections import FeatureCollection, Track\n",
    "from geostructures.visualization.plotly import draw_collection\n",
    "\n",
    "# To create a FeatureCollection, simply pass it a list of geoshapes\n",
    "collection = FeatureCollection(\n",
    "    [\n",
    "        GeoCircle(Coordinate(-0.118092, 51.509865), 500),\n",
    "        GeoEllipse(Coordinate(-0.118072, 51.502365), 2000, 400, 80),\n",
    "        GeoCircle(Coordinate(-0.141092, 51.529865), 500),\n",
    "        GeoRing(Coordinate(-0.116092, 51.519865), inner_radius=800, outer_radius=1000),\n",
    "        GeoRing(Coordinate(-0.101092, 51.514865), inner_radius=300, outer_radius=500, angle_min=60, angle_max=190),\n",
    "    ]\n",
    ")\n",
    "\n",
    "# Plot using plotly\n",
    "fig = draw_collection(collection)\n",
    "fig.update_layout(\n",
    "    width=1100, \n",
    "    height=500, \n",
    "    mapbox_zoom=10, \n",
    ")"
   ]
  },
  {
   "cell_type": "markdown",
   "id": "f7638efe-659e-46bf-b6c7-047809ca4266",
   "metadata": {},
   "source": [
    "## Filtering by Intersection/Containment\n",
    "\n",
    "You can filter a collection down to only those shapes which intersect or are contained by another shape of your choosing"
   ]
  },
  {
   "cell_type": "code",
   "execution_count": null,
   "id": "4263192c-1c5d-4582-a3bc-26f810855e48",
   "metadata": {},
   "outputs": [],
   "source": [
    "intersecting_circle = GeoCircle(Coordinate(-0.098092, 51.509865), 1500)\n",
    "\n",
    "filtered_intersection = collection.filter_by_intersection(intersecting_circle)\n",
    "print(f\"Intersection: filtered to {len(filtered_collection)} shapes\")\n",
    "\n",
    "filtered_intersection = collection.filter_by_contains(intersecting_circle)\n",
    "print(f\"Contains: filtered to {len(filtered_collection)} shapes\")\n",
    "\n",
    "fig2 = draw_collection(FeatureCollection([intersecting_circle]), color='blue', fig=fig)\n",
    "fig2.update_layout(\n",
    "    width=1100, \n",
    "    height=500, \n",
    "    mapbox_zoom=10, \n",
    ")"
   ]
  },
  {
   "cell_type": "markdown",
   "id": "680484fa-6ed0-4839-899b-a9e11bd15ad9",
   "metadata": {},
   "source": [
    "Alternatively if you just want to test whether a collection intersects your shape, you can use the `.intersects()` method."
   ]
  },
  {
   "cell_type": "code",
   "execution_count": null,
   "id": "9f16269a-b54c-4021-a6c3-6b5aff2c685d",
   "metadata": {},
   "outputs": [],
   "source": [
    "print(\"Collection intersects shape?\", collection.intersects(intersecting_circle))"
   ]
  },
  {
   "cell_type": "markdown",
   "id": "6cf02229-efbc-4437-bfd2-5dde50434475",
   "metadata": {},
   "source": [
    "### Collections Conversions\n",
    "\n",
    "FeatureCollections and Tracks come with convenience methods for converting your structures into GeoJSON and GeoPandas DataFrames, or reading either of these into a collection.\n",
    "\n",
    "Just like other methods, any properties stored on the shapes will be injected into the DataFrame/json."
   ]
  },
  {
   "cell_type": "markdown",
   "id": "246f2cfe-9a98-47af-b182-f6a818cd3852",
   "metadata": {},
   "source": [
    "#### GeoPandas"
   ]
  },
  {
   "cell_type": "code",
   "execution_count": null,
   "id": "b8b9f278-c70d-4946-b61f-f012388fc933",
   "metadata": {},
   "outputs": [],
   "source": [
    "# Convert a collection to a GeoDataFrame\n",
    "df = collection.to_geopandas()\n",
    "print(df.head(), end='\\n\\n')\n",
    "\n",
    "# Read a FeatureCollection from a GeoDataFrame\n",
    "collection = FeatureCollection.from_geopandas(df)\n",
    "print(collection)"
   ]
  },
  {
   "cell_type": "markdown",
   "id": "e2ccf10b-7d8b-4e05-93f0-662b6f369205",
   "metadata": {},
   "source": [
    "#### GeoJSON"
   ]
  },
  {
   "cell_type": "code",
   "execution_count": null,
   "id": "ca441b0a-d1c3-4fde-b6d9-ae2843fed12a",
   "metadata": {},
   "outputs": [],
   "source": [
    "# Convert a collection to GeoJSON\n",
    "gjson = collection.to_geojson()\n",
    "\n",
    "# Read a FeatureCollection from GeoJSON\n",
    "collection = FeatureCollection.from_geojson(gjson)"
   ]
  },
  {
   "cell_type": "markdown",
   "id": "0e4660c4-36bf-46d0-886a-4f9461bb714f",
   "metadata": {},
   "source": [
    "## Tracks\n",
    "\n",
    "Tracks can do everything that a FeatureCollection can do, but the time requirement for all shapes allows for a number of time-focused analytics.\n",
    "\n",
    "Just like FeatureCollections, you can create a Track by passing it a list of shapes. Unlike FeatureCollections, though, every \n",
    "shape must have an associated time or TimeInterval."
   ]
  },
  {
   "cell_type": "code",
   "execution_count": null,
   "id": "c3b939f9-edef-42e6-a2d2-a2dd13810abe",
   "metadata": {},
   "outputs": [],
   "source": [
    "# In order to create a track, all shapes must be bound by a datetime or timeinterval\n",
    "track = Track(\n",
    "    [\n",
    "        GeoPoint(Coordinate(-0.104154, 51.511920), dt=datetime(2020, 1, 1, 9, 5)),\n",
    "        GeoPoint(Coordinate(-0.096533, 51.511903), dt=datetime(2020, 1, 1, 9, 23)),\n",
    "        GeoPoint(Coordinate(-0.083765, 51.514423), dt=datetime(2020, 1, 1, 9, 44)),\n",
    "        GeoPoint(Coordinate(-0.087478, 51.508595), dt=datetime(2020, 1, 1, 10, 1)),\n",
    "    ]\n",
    ")"
   ]
  },
  {
   "cell_type": "markdown",
   "id": "36ff4659-ec4b-4a85-a745-22b78f866307",
   "metadata": {},
   "source": [
    "You can get metrics on the intervals between your declared shapes, such as the average speed required to move from point A to point B (assuming straight line movement, in meters per second)"
   ]
  },
  {
   "cell_type": "code",
   "execution_count": null,
   "id": "a0dc893c-1626-4868-ab9b-6fad96cd9dfd",
   "metadata": {},
   "outputs": [],
   "source": [
    "print(\"Distances between points:\", track.centroid_distances)\n",
    "print(\"Time differences:\", track.time_start_diffs)\n",
    "print(\"Average speed:\", track.speed_diffs)"
   ]
  },
  {
   "cell_type": "markdown",
   "id": "e000c04e-8baf-4322-85f1-037d1f341d64",
   "metadata": {},
   "source": [
    "#### Slicing by Time"
   ]
  },
  {
   "cell_type": "code",
   "execution_count": null,
   "id": "72a90932-a4e1-462e-85c9-fa73e7705d5e",
   "metadata": {},
   "outputs": [],
   "source": [
    "track[datetime(2020, 1, 1, 9, 23):datetime(2020, 1, 1, 9, 45)]"
   ]
  },
  {
   "cell_type": "code",
   "execution_count": null,
   "id": "3e81c9ef-4448-4087-9825-8832e55f0083",
   "metadata": {},
   "outputs": [],
   "source": []
  },
  {
   "cell_type": "code",
   "execution_count": null,
   "id": "5db65072-316f-4f7d-ba5f-8299f4ccbadf",
   "metadata": {},
   "outputs": [],
   "source": []
  }
 ],
 "metadata": {
  "kernelspec": {
   "display_name": "Python 3 (ipykernel)",
   "language": "python",
   "name": "python3"
  },
  "language_info": {
   "codemirror_mode": {
    "name": "ipython",
    "version": 3
   },
   "file_extension": ".py",
   "mimetype": "text/x-python",
   "name": "python",
   "nbconvert_exporter": "python",
   "pygments_lexer": "ipython3",
   "version": "3.9.6"
  }
 },
 "nbformat": 4,
 "nbformat_minor": 5
}

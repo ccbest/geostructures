{
 "cells": [
  {
   "cell_type": "markdown",
   "id": "42b8d82e-eca4-49c9-8fd8-c9f4988f0644",
   "metadata": {},
   "source": [
    "# Geostructures: Shape Collections\n",
    "\n",
    "Geostructures provides two objects for working with collections of shapes:\n",
    "* `FeatureCollection`: A generic collection of shapes, akin to a python list\n",
    "* `Track`: A chronologically-ordered collection shapes\n",
    "\n",
    "This notebook will demonstrate:\n",
    "* Creating shape collections\n",
    "* Common operations with shape collections\n",
    "* Plotting shape collections with plotly"
   ]
  },
  {
   "cell_type": "code",
   "execution_count": null,
   "id": "b8315d31-a04a-413c-a3d6-7df94fcad72f",
   "metadata": {},
   "outputs": [],
   "source": [
    "# If you've git cloned this repo, run this cell to add `geostructures` to your python path\n",
    "import sys\n",
    "sys.path.insert(0, '../')"
   ]
  },
  {
   "cell_type": "markdown",
   "id": "18fc0b3b-943f-4e5c-ae81-28770ae55a59",
   "metadata": {},
   "source": [
    "## FeatureCollections"
   ]
  },
  {
   "cell_type": "code",
   "execution_count": null,
   "id": "e5b5354b-63bd-4e0e-b594-31e2365e62f9",
   "metadata": {},
   "outputs": [],
   "source": [
    "from datetime import datetime\n",
    "\n",
    "from geostructures import Coordinate, GeoCircle, GeoEllipse, GeoPoint\n",
    "from geostructures.collections import FeatureCollection, Track\n",
    "\n",
    "# To create a FeatureCollection, simply pass it a list of geoshapes\n",
    "collection = FeatureCollection(\n",
    "    [\n",
    "        GeoCircle(Coordinate(-0.118092, 51.509865), 500),\n",
    "        GeoEllipse(Coordinate(-0.118092, 51.509865), 2000, 400, 80),\n",
    "    ]\n",
    ")\n",
    "collection"
   ]
  },
  {
   "cell_type": "markdown",
   "id": "9726748e-7b45-4cdb-9c3a-0ab5899821b1",
   "metadata": {},
   "source": [
    "FeatureCollections and Tracks come with convenience methods for converting your structures into GeoJSON and GeoPandas DataFrames, or reading either of these into a collection.\n",
    "\n",
    "Like other similar methods, any properties stored on the shapes will be injected into the DataFrame/json."
   ]
  },
  {
   "cell_type": "code",
   "execution_count": null,
   "id": "b8b9f278-c70d-4946-b61f-f012388fc933",
   "metadata": {},
   "outputs": [],
   "source": [
    "df = collection.to_geopandas()\n",
    "print(\"Converted into a GeoPandas DataFrame:\")\n",
    "print(df.head())\n",
    "\n",
    "gjson = collection.to_geojson()\n",
    "\n",
    "collection = FeatureCollection.from_geopandas(df)\n",
    "print(\"\\nConverted back into a FeatureCollection:\")\n",
    "print(collection)"
   ]
  },
  {
   "cell_type": "markdown",
   "id": "b84a4542-5968-403f-b347-ee0bc66e06a8",
   "metadata": {},
   "source": [
    "## Plotting to a Map\n",
    "\n",
    "Now that we have our shapes in a collection, we can use Geostructures' helpers to visualize all the shapes together."
   ]
  },
  {
   "cell_type": "code",
   "execution_count": null,
   "id": "e0b55ab2-961d-4ec0-8f8d-d6d934b60f27",
   "metadata": {},
   "outputs": [],
   "source": [
    "from geostructures.visualization.plotly import draw_collection\n",
    "\n",
    "fig = draw_collection(collection)\n",
    "fig.update_layout(\n",
    "    width=1100, \n",
    "    height=500, \n",
    "    mapbox_zoom=10, \n",
    ")"
   ]
  },
  {
   "cell_type": "markdown",
   "id": "0e4660c4-36bf-46d0-886a-4f9461bb714f",
   "metadata": {},
   "source": [
    "## Tracks\n",
    "\n",
    "Tracks can generally do everything that a FeatureCollection can do, in addition to a number of time-focused analytics.\n",
    "\n",
    "Just like FeatureCollections, you can create a Track by passing it a list of shapes. Unlike FeatureCollections, though, every \n",
    "shape must have an associated time or TimeInterval."
   ]
  },
  {
   "cell_type": "code",
   "execution_count": null,
   "id": "c3b939f9-edef-42e6-a2d2-a2dd13810abe",
   "metadata": {},
   "outputs": [],
   "source": [
    "# In order to create a track, all shapes must be bound by a datetime or timeinterval\n",
    "track = Track(\n",
    "    [\n",
    "        GeoPoint(Coordinate(-0.104154, 51.511920), dt=datetime(2020, 1, 1, 9, 5)),\n",
    "        GeoPoint(Coordinate(-0.096533, 51.511903), dt=datetime(2020, 1, 1, 9, 23)),\n",
    "        GeoPoint(Coordinate(-0.083765, 51.514423), dt=datetime(2020, 1, 1, 9, 44)),\n",
    "        GeoPoint(Coordinate(-0.087478, 51.508595), dt=datetime(2020, 1, 1, 10, 1)),\n",
    "    ]\n",
    ")"
   ]
  },
  {
   "cell_type": "markdown",
   "id": "36ff4659-ec4b-4a85-a745-22b78f866307",
   "metadata": {},
   "source": [
    "You can get metrics on the intervals between your declared shapes, such as the average speed required to move from point A to point B (assuming straight line movement, in meters per second)"
   ]
  },
  {
   "cell_type": "code",
   "execution_count": null,
   "id": "a0dc893c-1626-4868-ab9b-6fad96cd9dfd",
   "metadata": {},
   "outputs": [],
   "source": [
    "print(\"Distances between points:\", track.centroid_distances)\n",
    "print(\"Time differences:\", track.time_start_diffs)\n",
    "print(\"Average speed:\", track.speed_diffs)"
   ]
  },
  {
   "cell_type": "markdown",
   "id": "e000c04e-8baf-4322-85f1-037d1f341d64",
   "metadata": {},
   "source": [
    "You can also slice tracks by time"
   ]
  },
  {
   "cell_type": "code",
   "execution_count": null,
   "id": "72a90932-a4e1-462e-85c9-fa73e7705d5e",
   "metadata": {},
   "outputs": [],
   "source": [
    "track[datetime(2020, 1, 1, 9, 23):datetime(2020, 1, 1, 9, 45)]"
   ]
  }
 ],
 "metadata": {
  "kernelspec": {
   "display_name": "Python 3 (ipykernel)",
   "language": "python",
   "name": "python3"
  },
  "language_info": {
   "codemirror_mode": {
    "name": "ipython",
    "version": 3
   },
   "file_extension": ".py",
   "mimetype": "text/x-python",
   "name": "python",
   "nbconvert_exporter": "python",
   "pygments_lexer": "ipython3",
   "version": "3.9.0"
  }
 },
 "nbformat": 4,
 "nbformat_minor": 5
}
